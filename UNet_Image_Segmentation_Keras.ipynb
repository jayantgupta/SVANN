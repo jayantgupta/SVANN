{
 "cells": [
  {
   "cell_type": "code",
   "execution_count": 1,
   "metadata": {
    "scrolled": true
   },
   "outputs": [
    {
     "output_type": "execute_result",
     "data": {
      "text/plain": [
       "'\\n@author: Jayant Gupta\\nlast update: 02.06.2021\\n'"
      ]
     },
     "metadata": {},
     "execution_count": 1
    }
   ],
   "source": [
    "#!/usr/bin/env python\n",
    "\"\"\"\n",
    "@author: Jayant Gupta\n",
    "last update: 02.06.2021\n",
    "\"\"\""
   ]
  },
  {
   "cell_type": "code",
   "execution_count": 2,
   "metadata": {
    "scrolled": true
   },
   "outputs": [],
   "source": [
    "# Import necessary libraries\n",
    "import tensorflow as tf\n",
    "import os\n",
    "import random\n",
    "import numpy as np\n",
    "import math\n",
    "\n",
    "import models\n",
    " \n",
    "from tqdm import tqdm \n",
    "import json\n",
    "\n",
    "from skimage.io import imread, imshow, show\n",
    "from skimage.transform import resize\n",
    "import matplotlib.pyplot as plt\n",
    "\n",
    "from sklearn.metrics import confusion_matrix, roc_curve, roc_auc_score\n",
    "from sklearn.model_selection import train_test_split\n",
    "\n",
    "from PIL import Image\n",
    "\n",
    "# Handles reading large number of files.\n",
    "Image.MAX_IMAGE_PIXELS = 219494175 "
   ]
  },
  {
   "cell_type": "code",
   "execution_count": 3,
   "metadata": {
    "tags": []
   },
   "outputs": [
    {
     "output_type": "stream",
     "name": "stdout",
     "text": [
      "['datasets/imagery\\\\MN_raster_Hennepin_North\\\\120_23_13_01.tif', 'outputs/masks\\\\MN_raster_Hennepin_North\\\\120_23_13_01_mask.jpeg']\n['datasets/imagery\\\\MN_raster_Hennepin_North\\\\120_23_13_02.tif', 'outputs/masks\\\\MN_raster_Hennepin_North\\\\120_23_13_02_mask.jpeg']\n['datasets/imagery\\\\MN_raster_Hennepin_North\\\\120_23_13_03.tif', 'outputs/masks\\\\MN_raster_Hennepin_North\\\\120_23_13_03_mask.jpeg']\n['datasets/imagery\\\\MN_raster_Hennepin_North\\\\120_23_13_04.tif', 'outputs/masks\\\\MN_raster_Hennepin_North\\\\120_23_13_04_mask.jpeg']\n['datasets/imagery\\\\MN_raster_Hennepin_North\\\\120_23_14_01.tif', 'outputs/masks\\\\MN_raster_Hennepin_North\\\\120_23_14_01_mask.jpeg']\n"
     ]
    }
   ],
   "source": [
    "seed = 42\n",
    "np.random.seed = seed\n",
    "\n",
    "IMG_HEIGHT = 256\n",
    "IMG_WIDTH = 256\n",
    "IMG_CHANNELS = 3\n",
    "IMG_INDEX = \"RGB\"\n",
    "\n",
    "# This function creates a dictionary to store images and their mask.\n",
    "# This function is curated to handle train images *.tif format and \n",
    "# mask file in *.jpeg format\n",
    "def get_in_out_dict(img_dir=json.load(open('config.json'))['filepaths']['input_imagery_dir'], \n",
    "                    mask_dir=json.load(open('config.json'))['filepaths']['default_masks_dir'], \n",
    "                    indices_dir=None, \n",
    "                    index_type=None,\n",
    "                    in_folder=''):\n",
    "    in_out_dict = {}\n",
    "    img_path = os.path.join(img_dir, in_folder) # img_dir/in_folder\n",
    "    for img_filename in os.listdir(img_path):\n",
    "        in_file = os.path.join(img_path, img_filename) # img_dir/in_folder/img_filename\n",
    "        if os.path.isdir(in_file):\n",
    "            if IMG_CHANNELS > 3:\n",
    "                in_out_dict.update(get_in_out_dict(indices_dir=indices_dir, index_type=IMG_INDEX, in_folder=os.path.join(in_folder, img_filename)))\n",
    "            else:\n",
    "                in_out_dict.update(get_in_out_dict(in_folder=os.path.join(in_folder, img_filename)))\n",
    "        if in_file.endswith(\".tif\") is not True:\n",
    "            continue\n",
    "        key = img_filename.split('.')[0]\n",
    "        in_out_dict[key] = []\n",
    "        in_out_dict[key].append(in_file)\n",
    "        if IMG_CHANNELS > 3:\n",
    "            indices_path = os.path.join(indices_dir, in_folder) # indices_dir/in_folder\n",
    "            in_out_dict[key].append(\n",
    "                os.path.join(indices_path, [index for index in os.listdir(indices_path) if key in index and Index_Type in index][0]))\n",
    "        mask_path = os.path.join(mask_dir, in_folder) # mask_path/in_folder\n",
    "        in_out_dict[key].append(\n",
    "            os.path.join(mask_path, [mask for mask in os.listdir(mask_path) if key in mask][0]))\n",
    "\n",
    "    return in_out_dict\n",
    "\n",
    "in_out_dict = {}\n",
    "if IMG_CHANNELS > 3:\n",
    "    indices_dir = json.load(open('config.json'))['filepaths']['default_indices_dir']\n",
    "    in_out_dict = get_in_out_dict(indices_dir=indices_dir, index_type=IMG_INDEX)\n",
    "else:\n",
    "    in_out_dict = get_in_out_dict()\n",
    "\n",
    "for key in list(in_out_dict.keys())[0:5]:\n",
    "        print(in_out_dict[key])"
   ]
  },
  {
   "cell_type": "code",
   "execution_count": 4,
   "metadata": {
    "scrolled": true,
    "tags": []
   },
   "outputs": [
    {
     "output_type": "stream",
     "name": "stderr",
     "text": [
      "  0%|          | 0/72 [00:00<?, ?it/s]Resizing training images and masks\n",
      "120_23_13_01\n",
      "  1%|▏         | 1/72 [00:02<03:24,  2.88s/it]120_23_13_02\n",
      "  3%|▎         | 2/72 [00:05<03:02,  2.61s/it]120_23_13_03\n",
      "  4%|▍         | 3/72 [00:07<02:52,  2.50s/it]120_23_13_04\n",
      "  6%|▌         | 4/72 [00:09<02:43,  2.40s/it]120_23_14_01\n",
      "  7%|▋         | 5/72 [00:12<02:51,  2.56s/it]120_23_14_02\n",
      "  8%|▊         | 6/72 [00:15<02:50,  2.58s/it]120_23_14_03\n",
      " 10%|▉         | 7/72 [00:18<02:50,  2.62s/it]120_23_14_04\n",
      " 11%|█         | 8/72 [00:20<02:42,  2.54s/it]120_23_15_01\n",
      " 12%|█▎        | 9/72 [00:22<02:38,  2.51s/it]120_23_15_02\n",
      " 14%|█▍        | 10/72 [00:25<02:34,  2.50s/it]120_23_15_03\n",
      " 15%|█▌        | 11/72 [00:27<02:34,  2.53s/it]120_23_15_04\n",
      " 17%|█▋        | 12/72 [00:30<02:30,  2.51s/it]120_23_22_01\n",
      " 18%|█▊        | 13/72 [00:32<02:28,  2.51s/it]120_23_22_02\n",
      " 19%|█▉        | 14/72 [00:35<02:27,  2.55s/it]120_23_22_03\n",
      " 21%|██        | 15/72 [00:37<02:21,  2.49s/it]120_23_22_04\n",
      " 22%|██▏       | 16/72 [00:40<02:17,  2.45s/it]120_23_23_01\n",
      " 24%|██▎       | 17/72 [00:42<02:15,  2.47s/it]120_23_23_02\n",
      " 25%|██▌       | 18/72 [00:45<02:15,  2.51s/it]120_23_23_03\n",
      " 26%|██▋       | 19/72 [00:47<02:13,  2.51s/it]120_23_23_04\n",
      " 28%|██▊       | 20/72 [00:50<02:09,  2.49s/it]120_23_24_01\n",
      " 29%|██▉       | 21/72 [00:52<02:09,  2.54s/it]120_23_24_02\n",
      " 31%|███       | 22/72 [00:55<02:08,  2.57s/it]120_23_24_03\n",
      " 32%|███▏      | 23/72 [00:58<02:08,  2.63s/it]120_23_24_04\n",
      " 33%|███▎      | 24/72 [01:01<02:07,  2.65s/it]120_23_25_01\n",
      " 35%|███▍      | 25/72 [01:03<02:02,  2.61s/it]120_23_25_02\n",
      " 36%|███▌      | 26/72 [01:06<01:59,  2.59s/it]120_23_25_03\n",
      " 38%|███▊      | 27/72 [01:08<01:55,  2.57s/it]120_23_25_04\n",
      " 39%|███▉      | 28/72 [01:11<01:52,  2.55s/it]120_23_26_01\n",
      " 40%|████      | 29/72 [01:13<01:51,  2.59s/it]120_23_26_02\n",
      " 42%|████▏     | 30/72 [01:16<01:48,  2.59s/it]120_23_26_03\n",
      " 43%|████▎     | 31/72 [01:19<01:48,  2.66s/it]120_23_26_04\n",
      " 44%|████▍     | 32/72 [01:21<01:45,  2.65s/it]120_23_27_01\n",
      " 46%|████▌     | 33/72 [01:24<01:40,  2.58s/it]120_23_27_02\n",
      " 47%|████▋     | 34/72 [01:26<01:38,  2.60s/it]120_23_27_03\n",
      " 49%|████▊     | 35/72 [01:29<01:35,  2.59s/it]120_23_27_04\n",
      " 50%|█████     | 36/72 [01:32<01:33,  2.60s/it]119_22_01_01\n",
      " 51%|█████▏    | 37/72 [01:34<01:33,  2.67s/it]119_22_01_02\n",
      " 53%|█████▎    | 38/72 [01:37<01:29,  2.64s/it]119_22_02_01\n",
      " 54%|█████▍    | 39/72 [01:40<01:29,  2.71s/it]119_22_02_02\n",
      " 56%|█████▌    | 40/72 [01:43<01:26,  2.71s/it]119_22_03_01\n",
      " 57%|█████▋    | 41/72 [01:45<01:24,  2.73s/it]119_22_03_02\n",
      " 58%|█████▊    | 42/72 [01:48<01:22,  2.74s/it]120_22_22_03\n",
      " 60%|█████▉    | 43/72 [01:51<01:19,  2.74s/it]120_22_22_04\n",
      " 61%|██████    | 44/72 [01:54<01:17,  2.76s/it]120_22_23_03\n",
      " 62%|██████▎   | 45/72 [01:57<01:15,  2.78s/it]120_22_23_04\n",
      " 64%|██████▍   | 46/72 [01:59<01:13,  2.81s/it]120_22_24_03\n",
      " 65%|██████▌   | 47/72 [02:02<01:11,  2.86s/it]120_22_24_04\n",
      " 67%|██████▋   | 48/72 [02:05<01:07,  2.83s/it]120_22_25_01\n",
      " 68%|██████▊   | 49/72 [02:08<01:05,  2.87s/it]120_22_25_02\n",
      " 69%|██████▉   | 50/72 [02:11<01:03,  2.88s/it]120_22_25_03\n",
      " 71%|███████   | 51/72 [02:14<01:00,  2.86s/it]120_22_25_04\n",
      " 72%|███████▏  | 52/72 [02:16<00:53,  2.70s/it]120_22_26_01\n",
      " 74%|███████▎  | 53/72 [02:19<00:50,  2.65s/it]120_22_26_02\n",
      " 75%|███████▌  | 54/72 [02:21<00:47,  2.64s/it]120_22_26_03\n",
      " 76%|███████▋  | 55/72 [02:24<00:44,  2.63s/it]120_22_26_04\n",
      " 78%|███████▊  | 56/72 [02:27<00:41,  2.62s/it]120_22_27_01\n",
      " 79%|███████▉  | 57/72 [02:29<00:39,  2.62s/it]120_22_27_02\n",
      " 81%|████████  | 58/72 [02:32<00:36,  2.62s/it]120_22_27_03\n",
      " 82%|████████▏ | 59/72 [02:34<00:34,  2.62s/it]120_22_27_04\n",
      " 83%|████████▎ | 60/72 [02:37<00:30,  2.57s/it]120_22_34_01\n",
      " 85%|████████▍ | 61/72 [02:39<00:28,  2.57s/it]120_22_34_02\n",
      " 86%|████████▌ | 62/72 [02:42<00:25,  2.59s/it]120_22_34_03\n",
      " 88%|████████▊ | 63/72 [02:45<00:23,  2.61s/it]120_22_34_04\n",
      " 89%|████████▉ | 64/72 [02:47<00:20,  2.59s/it]120_22_35_01\n",
      " 90%|█████████ | 65/72 [02:50<00:18,  2.62s/it]120_22_35_02\n",
      " 92%|█████████▏| 66/72 [02:53<00:15,  2.65s/it]120_22_35_03\n",
      " 93%|█████████▎| 67/72 [02:55<00:13,  2.64s/it]120_22_35_04\n",
      " 94%|█████████▍| 68/72 [02:58<00:10,  2.72s/it]120_22_36_01\n",
      " 96%|█████████▌| 69/72 [03:01<00:08,  2.76s/it]120_22_36_02\n",
      " 97%|█████████▋| 70/72 [03:04<00:05,  2.77s/it]120_22_36_03\n",
      " 99%|█████████▊| 71/72 [03:07<00:02,  2.80s/it]120_22_36_04\n",
      "100%|██████████| 72/72 [03:09<00:00,  2.64s/it]\n"
     ]
    }
   ],
   "source": [
    "def join_image_and_index(img_path, index_path):\n",
    "    image = Image.open(img_path) # Using Pillow Image object\n",
    "    image = image.resize((IMG_HEIGHT, IMG_WIDTH)) # \n",
    "    image_array = np.asarray(image)/255.\n",
    "\n",
    "    index = Image.open(index_path) # Using Pillow Image object\n",
    "    index = index.resize((IMG_HEIGHT, IMG_WIDTH))\n",
    "    index_array = np.asarray(index)\n",
    "    return np.dstack((image_array, index_array))\n",
    "\n",
    "# Function to read the data from image_mask_pair file paths.\n",
    "def read_data(in_out_dict):\n",
    "    X_train = np.zeros((len(in_out_dict), IMG_HEIGHT, IMG_WIDTH, IMG_CHANNELS), dtype=np.float32)\n",
    "    Y_train = np.zeros((len(in_out_dict), IMG_HEIGHT, IMG_WIDTH, 1), dtype=np.bool)\n",
    "\n",
    "    keys = in_out_dict.keys()\n",
    "\n",
    "    print('Resizing training images and masks')\n",
    "    n = 0\n",
    "    for key, value in tqdm(in_out_dict.items()):\n",
    "        print(key)\n",
    "        if IMG_CHANNELS > 3:\n",
    "            [img_path, index_path, mask_path] = value\n",
    "            X_train[n] = join_image_and_index(img_path, index_path)\n",
    "        else:\n",
    "            [img_path, mask_path] = value\n",
    "            image = Image.open(img_path) # Using Pillow Image object\n",
    "            image = image.resize((IMG_HEIGHT, IMG_WIDTH)) # \n",
    "            X_train[n] = np.asarray(image)/255.\n",
    "        mask = Image.open(mask_path) # Using Pillow Image object\n",
    "        mask = mask.resize((IMG_HEIGHT, IMG_WIDTH))\n",
    "        mask = np.array(mask)\n",
    "        mask = mask.reshape(256, 256, 1)\n",
    "        mask_bool = mask > 0          \n",
    "        Y_train[n] = mask_bool \n",
    "        n += 1\n",
    "    return X_train, Y_train\n",
    "\n",
    "X_train_in, Y_train_in = read_data(in_out_dict)"
   ]
  },
  {
   "cell_type": "code",
   "execution_count": 5,
   "metadata": {
    "tags": []
   },
   "outputs": [
    {
     "output_type": "stream",
     "name": "stdout",
     "text": [
      "Train Size = 56, Test size = 8, Validation size = 8\n['X_train', 'Y_train', 'X_val', 'Y_val', 'X_test', 'Y_test']\n"
     ]
    }
   ],
   "source": [
    "# Need to run once. Generate training, validation, and test dataset.\n",
    "def generate_train_val_test(X_train, Y_train):\n",
    "    X_train, X_test, Y_train, Y_test = train_test_split(X_train, Y_train, test_size = 0.1, random_state=1)\n",
    "    X_train, X_val, Y_train, Y_val = train_test_split(X_train, Y_train, test_size = 0.12, random_state=1)\n",
    "    print(\"Train Size = {0}, Test size = {1}, Validation size = {2}\".format(len(X_train), len(X_test), len(X_val)))\n",
    "    return X_train, Y_train, X_val, Y_val, X_test, Y_test\n",
    "\n",
    "X_train_split, Y_train_split, X_val, Y_val, X_test, Y_test = generate_train_val_test(X_train_in, Y_train_in)\n",
    "\n",
    "outfile = json.load(open('config.json'))['filepaths']['default_pyobjects'] + '/Hennepin_North.npz'\n",
    "np.savez(outfile ,X_train=X_train_split, Y_train=Y_train_split, X_val=X_val, Y_val=Y_val, X_test=X_test, Y_test=Y_test)\n",
    "npzfile = np.load(outfile)\n",
    "print(npzfile.files)\n",
    "X_train = npzfile['X_train']\n",
    "Y_train = npzfile['Y_train']\n",
    "X_test = npzfile['X_test']\n",
    "Y_test = npzfile['Y_test']\n",
    "X_val = npzfile['X_val']\n",
    "Y_val = npzfile['Y_val']"
   ]
  },
  {
   "cell_type": "code",
   "execution_count": null,
   "metadata": {
    "scrolled": true,
    "tags": []
   },
   "outputs": [],
   "source": [
    "# Samples the input data.\n",
    "for (X, Y, Title) in [(X_train, Y_train, \"Train\"), (X_test, Y_test, \"Test\"), (X_val, Y_val, \"Validation\")]:\n",
    "    print(\"Sampling the \" + Title + \" data\")\n",
    "    #image_x = random.randint(0, len(X)-1)\n",
    "    #plt.imshow(X[image_x][:,:,:3])\n",
    "    for i in range(4):\n",
    "        plt.imshow(X[i][:,:,:3])\n",
    "        plt.title(\"RGB for \"+Title)\n",
    "        plt.figure()\n",
    "        plt.imshow(np.squeeze(Y[i]))\n",
    "        plt.title(\"Mask label for \"+Title)\n",
    "        plt.show()\n",
    "    for c in range(IMG_CHANNELS-3):\n",
    "        art = plt.imshow(X[i][:,:,3:4+c], cmap ='plasma')\n",
    "        plt.colorbar(art)\n",
    "        plt.title(\"VI for \"+Title+\" (\"+IMG_INDEX+\")\")\n",
    "        plt.figure()\n",
    "    "
   ]
  },
  {
   "cell_type": "code",
   "execution_count": null,
   "metadata": {
    "scrolled": true,
    "tags": []
   },
   "outputs": [],
   "source": [
    "#class CustomCallback(keras.callbacks.Callback):\n",
    "#    def on_train_batch_begin(self, batch, logs=None):\n",
    "#        if not hasattr(self.model.optimizer, \"lr\"):\n",
    "#            raise ValueError('Optimizer must have a \"lr\" attribute.')\n",
    "#        lr = float(tf.keras.backend.get_value(self.model.optimizer_learning_rate))\n",
    "# sample_weights        \n",
    "\n",
    "# Generate a UNetS model\n",
    "unets_model = models.UNetS(IMG_HEIGHT, IMG_WIDTH, IMG_CHANNELS)\n",
    "\n",
    "callbacks = [\n",
    "        tf.keras.callbacks.EarlyStopping(patience=2, monitor='val_loss'),\n",
    "        tf.keras.callbacks.TensorBoard(log_dir='logs'),\n",
    "        tf.keras.callbacks.ModelCheckpoint(filepath=json.load(open('config.json'))['filepaths']['default_checkpoints']+'/'+IMG_INDEX+'/MPLS-UNetS-HNE.h5', verbose=1, save_best_only=True)]\n",
    "\n",
    "# Check sample weighting\n",
    "#sample_weight = np.ones(shape=(len(Y_train),))\n",
    "\n",
    "results = unets_model.fit(X_train, Y_train, validation_data=(X_val, Y_val), batch_size=8, epochs=10, callbacks=callbacks)\n",
    "\n",
    "####################################"
   ]
  },
  {
   "cell_type": "code",
   "execution_count": 6,
   "metadata": {
    "scrolled": true,
    "tags": []
   },
   "outputs": [
    {
     "output_type": "stream",
     "name": "stdout",
     "text": [
      "Epoch 1/10\n",
      "4/4 [==============================] - 27s 6s/step - loss: 0.7413 - accuracy: 0.6012 - val_loss: 0.6242 - val_accuracy: 0.7371\n",
      "\n",
      "Epoch 00001: val_loss improved from inf to 0.62416, saving model to outputs/Checkpoints/RGB\\MPLS-UNet-HN+HNE.h5\n",
      "Epoch 2/10\n",
      "4/4 [==============================] - 23s 6s/step - loss: 0.5923 - accuracy: 0.7759 - val_loss: 0.6072 - val_accuracy: 0.7373\n",
      "\n",
      "Epoch 00002: val_loss improved from 0.62416 to 0.60723, saving model to outputs/Checkpoints/RGB\\MPLS-UNet-HN+HNE.h5\n",
      "Epoch 3/10\n",
      "4/4 [==============================] - 24s 6s/step - loss: 0.5715 - accuracy: 0.7596 - val_loss: 0.5717 - val_accuracy: 0.7379\n",
      "\n",
      "Epoch 00003: val_loss improved from 0.60723 to 0.57171, saving model to outputs/Checkpoints/RGB\\MPLS-UNet-HN+HNE.h5\n",
      "Epoch 4/10\n",
      "4/4 [==============================] - 23s 6s/step - loss: 0.5249 - accuracy: 0.7814 - val_loss: 0.5725 - val_accuracy: 0.7386\n",
      "\n",
      "Epoch 00004: val_loss did not improve from 0.57171\n",
      "Epoch 5/10\n",
      "4/4 [==============================] - 23s 6s/step - loss: 0.5329 - accuracy: 0.7747 - val_loss: 0.5649 - val_accuracy: 0.7386\n",
      "\n",
      "Epoch 00005: val_loss improved from 0.57171 to 0.56488, saving model to outputs/Checkpoints/RGB\\MPLS-UNet-HN+HNE.h5\n",
      "Epoch 6/10\n",
      "4/4 [==============================] - 24s 6s/step - loss: 0.5456 - accuracy: 0.7566 - val_loss: 0.5676 - val_accuracy: 0.7386\n",
      "\n",
      "Epoch 00006: val_loss did not improve from 0.56488\n",
      "Epoch 7/10\n",
      "4/4 [==============================] - 22s 5s/step - loss: 0.5147 - accuracy: 0.7841 - val_loss: 0.5660 - val_accuracy: 0.7386\n",
      "\n",
      "Epoch 00007: val_loss did not improve from 0.56488\n"
     ]
    }
   ],
   "source": [
    "# Generate a UNet model\n",
    "unet_model = models.UNet(IMG_HEIGHT, IMG_WIDTH, IMG_CHANNELS)\n",
    "\n",
    "################################\n",
    "\n",
    "#class CustomCallback(keras.callbacks.Callback):\n",
    "#    def on_train_batch_begin(self, batch, logs=None):\n",
    "#        if not hasattr(self.model.optimizer, \"lr\"):\n",
    "#            raise ValueError('Optimizer must have a \"lr\" attribute.')\n",
    "#        lr = float(tf.keras.backend.get_value(self.model.optimizer_learning_rate))\n",
    "# sample_weights        \n",
    "\n",
    "#Modelcheckpoint\n",
    "#checkpointer = tf.keras.callbacks.ModelCheckpoint(filepath='/Users/jayantgupta/SVANN/model_for_nuclei.h5', verbose=1, save_best_only=True)\n",
    "\n",
    "callbacks = [\n",
    "        tf.keras.callbacks.EarlyStopping(patience=2, monitor='val_loss'),\n",
    "        tf.keras.callbacks.TensorBoard(log_dir='logs'),\n",
    "        tf.keras.callbacks.ModelCheckpoint(filepath=json.load(open('config.json'))['filepaths']['default_checkpoints']+'/'+IMG_INDEX+'/MPLS-UNet-HN+HNE.h5', verbose=1, save_best_only=True)]\n",
    "\n",
    "# Check sample weighting\n",
    "# sample_weight = np.ones(shape=(len(Y_train),))\n",
    "\n",
    "results = unet_model.fit(X_train, Y_train, validation_data=(X_val, Y_val), batch_size=16, epochs=10, callbacks=callbacks)\n",
    "\n",
    "####################################"
   ]
  },
  {
   "cell_type": "code",
   "execution_count": 7,
   "metadata": {
    "scrolled": true,
    "tags": []
   },
   "outputs": [
    {
     "output_type": "stream",
     "name": "stdout",
     "text": [
      "2/2 [==============================] - 5s 2s/step\n",
      "1/1 [==============================] - 1s 762ms/step\n",
      "1/1 [==============================] - 1s 615ms/step\n",
      "Best Threshold=0.247090, G-Mean=0.569\n"
     ]
    },
    {
     "output_type": "display_data",
     "data": {
      "text/plain": "<Figure size 432x288 with 1 Axes>",
      "image/svg+xml": "<?xml version=\"1.0\" encoding=\"utf-8\" standalone=\"no\"?>\r\n<!DOCTYPE svg PUBLIC \"-//W3C//DTD SVG 1.1//EN\"\r\n  \"http://www.w3.org/Graphics/SVG/1.1/DTD/svg11.dtd\">\r\n<!-- Created with matplotlib (https://matplotlib.org/) -->\r\n<svg height=\"248.518125pt\" version=\"1.1\" viewBox=\"0 0 372.103125 248.518125\" width=\"372.103125pt\" xmlns=\"http://www.w3.org/2000/svg\" xmlns:xlink=\"http://www.w3.org/1999/xlink\">\r\n <metadata>\r\n  <rdf:RDF xmlns:cc=\"http://creativecommons.org/ns#\" xmlns:dc=\"http://purl.org/dc/elements/1.1/\" xmlns:rdf=\"http://www.w3.org/1999/02/22-rdf-syntax-ns#\">\r\n   <cc:Work>\r\n    <dc:type rdf:resource=\"http://purl.org/dc/dcmitype/StillImage\"/>\r\n    <dc:date>2021-03-16T23:49:34.195419</dc:date>\r\n    <dc:format>image/svg+xml</dc:format>\r\n    <dc:creator>\r\n     <cc:Agent>\r\n      <dc:title>Matplotlib v3.3.4, https://matplotlib.org/</dc:title>\r\n     </cc:Agent>\r\n    </dc:creator>\r\n   </cc:Work>\r\n  </rdf:RDF>\r\n </metadata>\r\n <defs>\r\n  <style type=\"text/css\">*{stroke-linecap:butt;stroke-linejoin:round;}</style>\r\n </defs>\r\n <g id=\"figure_1\">\r\n  <g id=\"patch_1\">\r\n   <path d=\"M 0 248.518125 \r\nL 372.103125 248.518125 \r\nL 372.103125 0 \r\nL 0 0 \r\nz\r\n\" style=\"fill:none;\"/>\r\n  </g>\r\n  <g id=\"axes_1\">\r\n   <g id=\"patch_2\">\r\n    <path d=\"M 30.103125 224.64 \r\nL 364.903125 224.64 \r\nL 364.903125 7.2 \r\nL 30.103125 7.2 \r\nz\r\n\" style=\"fill:#ffffff;\"/>\r\n   </g>\r\n   <g id=\"PathCollection_1\">\r\n    <defs>\r\n     <path d=\"M 0 3 \r\nC 0.795609 3 1.55874 2.683901 2.12132 2.12132 \r\nC 2.683901 1.55874 3 0.795609 3 0 \r\nC 3 -0.795609 2.683901 -1.55874 2.12132 -2.12132 \r\nC 1.55874 -2.683901 0.795609 -3 0 -3 \r\nC -0.795609 -3 -1.55874 -2.683901 -2.12132 -2.12132 \r\nC -2.683901 -1.55874 -3 -0.795609 -3 0 \r\nC -3 0.795609 -2.683901 1.55874 -2.12132 2.12132 \r\nC -1.55874 2.683901 -0.795609 3 0 3 \r\nz\r\n\" id=\"m3bd9979983\" style=\"stroke:#000000;\"/>\r\n    </defs>\r\n    <g clip-path=\"url(#pbe62ae3a97)\">\r\n     <use style=\"stroke:#000000;\" x=\"170.18654\" xlink:href=\"#m3bd9979983\" y=\"106.107307\"/>\r\n    </g>\r\n   </g>\r\n   <g id=\"matplotlib.axis_1\">\r\n    <g id=\"xtick_1\">\r\n     <g id=\"line2d_1\">\r\n      <defs>\r\n       <path d=\"M 0 0 \r\nL 0 3.5 \r\n\" id=\"m8b8b7efcdf\" style=\"stroke:#000000;stroke-width:0.8;\"/>\r\n      </defs>\r\n      <g>\r\n       <use style=\"stroke:#000000;stroke-width:0.8;\" x=\"45.321307\" xlink:href=\"#m8b8b7efcdf\" y=\"224.64\"/>\r\n      </g>\r\n     </g>\r\n     <g id=\"text_1\">\r\n      <!-- 0.0 -->\r\n      <g transform=\"translate(37.369744 239.238437)scale(0.1 -0.1)\">\r\n       <defs>\r\n        <path d=\"M 31.78125 66.40625 \r\nQ 24.171875 66.40625 20.328125 58.90625 \r\nQ 16.5 51.421875 16.5 36.375 \r\nQ 16.5 21.390625 20.328125 13.890625 \r\nQ 24.171875 6.390625 31.78125 6.390625 \r\nQ 39.453125 6.390625 43.28125 13.890625 \r\nQ 47.125 21.390625 47.125 36.375 \r\nQ 47.125 51.421875 43.28125 58.90625 \r\nQ 39.453125 66.40625 31.78125 66.40625 \r\nz\r\nM 31.78125 74.21875 \r\nQ 44.046875 74.21875 50.515625 64.515625 \r\nQ 56.984375 54.828125 56.984375 36.375 \r\nQ 56.984375 17.96875 50.515625 8.265625 \r\nQ 44.046875 -1.421875 31.78125 -1.421875 \r\nQ 19.53125 -1.421875 13.0625 8.265625 \r\nQ 6.59375 17.96875 6.59375 36.375 \r\nQ 6.59375 54.828125 13.0625 64.515625 \r\nQ 19.53125 74.21875 31.78125 74.21875 \r\nz\r\n\" id=\"DejaVuSans-48\"/>\r\n        <path d=\"M 10.6875 12.40625 \r\nL 21 12.40625 \r\nL 21 0 \r\nL 10.6875 0 \r\nz\r\n\" id=\"DejaVuSans-46\"/>\r\n       </defs>\r\n       <use xlink:href=\"#DejaVuSans-48\"/>\r\n       <use x=\"63.623047\" xlink:href=\"#DejaVuSans-46\"/>\r\n       <use x=\"95.410156\" xlink:href=\"#DejaVuSans-48\"/>\r\n      </g>\r\n     </g>\r\n    </g>\r\n    <g id=\"xtick_2\">\r\n     <g id=\"line2d_2\">\r\n      <g>\r\n       <use style=\"stroke:#000000;stroke-width:0.8;\" x=\"106.194034\" xlink:href=\"#m8b8b7efcdf\" y=\"224.64\"/>\r\n      </g>\r\n     </g>\r\n     <g id=\"text_2\">\r\n      <!-- 0.2 -->\r\n      <g transform=\"translate(98.242472 239.238437)scale(0.1 -0.1)\">\r\n       <defs>\r\n        <path d=\"M 19.1875 8.296875 \r\nL 53.609375 8.296875 \r\nL 53.609375 0 \r\nL 7.328125 0 \r\nL 7.328125 8.296875 \r\nQ 12.9375 14.109375 22.625 23.890625 \r\nQ 32.328125 33.6875 34.8125 36.53125 \r\nQ 39.546875 41.84375 41.421875 45.53125 \r\nQ 43.3125 49.21875 43.3125 52.78125 \r\nQ 43.3125 58.59375 39.234375 62.25 \r\nQ 35.15625 65.921875 28.609375 65.921875 \r\nQ 23.96875 65.921875 18.8125 64.3125 \r\nQ 13.671875 62.703125 7.8125 59.421875 \r\nL 7.8125 69.390625 \r\nQ 13.765625 71.78125 18.9375 73 \r\nQ 24.125 74.21875 28.421875 74.21875 \r\nQ 39.75 74.21875 46.484375 68.546875 \r\nQ 53.21875 62.890625 53.21875 53.421875 \r\nQ 53.21875 48.921875 51.53125 44.890625 \r\nQ 49.859375 40.875 45.40625 35.40625 \r\nQ 44.1875 33.984375 37.640625 27.21875 \r\nQ 31.109375 20.453125 19.1875 8.296875 \r\nz\r\n\" id=\"DejaVuSans-50\"/>\r\n       </defs>\r\n       <use xlink:href=\"#DejaVuSans-48\"/>\r\n       <use x=\"63.623047\" xlink:href=\"#DejaVuSans-46\"/>\r\n       <use x=\"95.410156\" xlink:href=\"#DejaVuSans-50\"/>\r\n      </g>\r\n     </g>\r\n    </g>\r\n    <g id=\"xtick_3\">\r\n     <g id=\"line2d_3\">\r\n      <g>\r\n       <use style=\"stroke:#000000;stroke-width:0.8;\" x=\"167.066761\" xlink:href=\"#m8b8b7efcdf\" y=\"224.64\"/>\r\n      </g>\r\n     </g>\r\n     <g id=\"text_3\">\r\n      <!-- 0.4 -->\r\n      <g transform=\"translate(159.115199 239.238437)scale(0.1 -0.1)\">\r\n       <defs>\r\n        <path d=\"M 37.796875 64.3125 \r\nL 12.890625 25.390625 \r\nL 37.796875 25.390625 \r\nz\r\nM 35.203125 72.90625 \r\nL 47.609375 72.90625 \r\nL 47.609375 25.390625 \r\nL 58.015625 25.390625 \r\nL 58.015625 17.1875 \r\nL 47.609375 17.1875 \r\nL 47.609375 0 \r\nL 37.796875 0 \r\nL 37.796875 17.1875 \r\nL 4.890625 17.1875 \r\nL 4.890625 26.703125 \r\nz\r\n\" id=\"DejaVuSans-52\"/>\r\n       </defs>\r\n       <use xlink:href=\"#DejaVuSans-48\"/>\r\n       <use x=\"63.623047\" xlink:href=\"#DejaVuSans-46\"/>\r\n       <use x=\"95.410156\" xlink:href=\"#DejaVuSans-52\"/>\r\n      </g>\r\n     </g>\r\n    </g>\r\n    <g id=\"xtick_4\">\r\n     <g id=\"line2d_4\">\r\n      <g>\r\n       <use style=\"stroke:#000000;stroke-width:0.8;\" x=\"227.939489\" xlink:href=\"#m8b8b7efcdf\" y=\"224.64\"/>\r\n      </g>\r\n     </g>\r\n     <g id=\"text_4\">\r\n      <!-- 0.6 -->\r\n      <g transform=\"translate(219.987926 239.238437)scale(0.1 -0.1)\">\r\n       <defs>\r\n        <path d=\"M 33.015625 40.375 \r\nQ 26.375 40.375 22.484375 35.828125 \r\nQ 18.609375 31.296875 18.609375 23.390625 \r\nQ 18.609375 15.53125 22.484375 10.953125 \r\nQ 26.375 6.390625 33.015625 6.390625 \r\nQ 39.65625 6.390625 43.53125 10.953125 \r\nQ 47.40625 15.53125 47.40625 23.390625 \r\nQ 47.40625 31.296875 43.53125 35.828125 \r\nQ 39.65625 40.375 33.015625 40.375 \r\nz\r\nM 52.59375 71.296875 \r\nL 52.59375 62.3125 \r\nQ 48.875 64.0625 45.09375 64.984375 \r\nQ 41.3125 65.921875 37.59375 65.921875 \r\nQ 27.828125 65.921875 22.671875 59.328125 \r\nQ 17.53125 52.734375 16.796875 39.40625 \r\nQ 19.671875 43.65625 24.015625 45.921875 \r\nQ 28.375 48.1875 33.59375 48.1875 \r\nQ 44.578125 48.1875 50.953125 41.515625 \r\nQ 57.328125 34.859375 57.328125 23.390625 \r\nQ 57.328125 12.15625 50.6875 5.359375 \r\nQ 44.046875 -1.421875 33.015625 -1.421875 \r\nQ 20.359375 -1.421875 13.671875 8.265625 \r\nQ 6.984375 17.96875 6.984375 36.375 \r\nQ 6.984375 53.65625 15.1875 63.9375 \r\nQ 23.390625 74.21875 37.203125 74.21875 \r\nQ 40.921875 74.21875 44.703125 73.484375 \r\nQ 48.484375 72.75 52.59375 71.296875 \r\nz\r\n\" id=\"DejaVuSans-54\"/>\r\n       </defs>\r\n       <use xlink:href=\"#DejaVuSans-48\"/>\r\n       <use x=\"63.623047\" xlink:href=\"#DejaVuSans-46\"/>\r\n       <use x=\"95.410156\" xlink:href=\"#DejaVuSans-54\"/>\r\n      </g>\r\n     </g>\r\n    </g>\r\n    <g id=\"xtick_5\">\r\n     <g id=\"line2d_5\">\r\n      <g>\r\n       <use style=\"stroke:#000000;stroke-width:0.8;\" x=\"288.812216\" xlink:href=\"#m8b8b7efcdf\" y=\"224.64\"/>\r\n      </g>\r\n     </g>\r\n     <g id=\"text_5\">\r\n      <!-- 0.8 -->\r\n      <g transform=\"translate(280.860653 239.238437)scale(0.1 -0.1)\">\r\n       <defs>\r\n        <path d=\"M 31.78125 34.625 \r\nQ 24.75 34.625 20.71875 30.859375 \r\nQ 16.703125 27.09375 16.703125 20.515625 \r\nQ 16.703125 13.921875 20.71875 10.15625 \r\nQ 24.75 6.390625 31.78125 6.390625 \r\nQ 38.8125 6.390625 42.859375 10.171875 \r\nQ 46.921875 13.96875 46.921875 20.515625 \r\nQ 46.921875 27.09375 42.890625 30.859375 \r\nQ 38.875 34.625 31.78125 34.625 \r\nz\r\nM 21.921875 38.8125 \r\nQ 15.578125 40.375 12.03125 44.71875 \r\nQ 8.5 49.078125 8.5 55.328125 \r\nQ 8.5 64.0625 14.71875 69.140625 \r\nQ 20.953125 74.21875 31.78125 74.21875 \r\nQ 42.671875 74.21875 48.875 69.140625 \r\nQ 55.078125 64.0625 55.078125 55.328125 \r\nQ 55.078125 49.078125 51.53125 44.71875 \r\nQ 48 40.375 41.703125 38.8125 \r\nQ 48.828125 37.15625 52.796875 32.3125 \r\nQ 56.78125 27.484375 56.78125 20.515625 \r\nQ 56.78125 9.90625 50.3125 4.234375 \r\nQ 43.84375 -1.421875 31.78125 -1.421875 \r\nQ 19.734375 -1.421875 13.25 4.234375 \r\nQ 6.78125 9.90625 6.78125 20.515625 \r\nQ 6.78125 27.484375 10.78125 32.3125 \r\nQ 14.796875 37.15625 21.921875 38.8125 \r\nz\r\nM 18.3125 54.390625 \r\nQ 18.3125 48.734375 21.84375 45.5625 \r\nQ 25.390625 42.390625 31.78125 42.390625 \r\nQ 38.140625 42.390625 41.71875 45.5625 \r\nQ 45.3125 48.734375 45.3125 54.390625 \r\nQ 45.3125 60.0625 41.71875 63.234375 \r\nQ 38.140625 66.40625 31.78125 66.40625 \r\nQ 25.390625 66.40625 21.84375 63.234375 \r\nQ 18.3125 60.0625 18.3125 54.390625 \r\nz\r\n\" id=\"DejaVuSans-56\"/>\r\n       </defs>\r\n       <use xlink:href=\"#DejaVuSans-48\"/>\r\n       <use x=\"63.623047\" xlink:href=\"#DejaVuSans-46\"/>\r\n       <use x=\"95.410156\" xlink:href=\"#DejaVuSans-56\"/>\r\n      </g>\r\n     </g>\r\n    </g>\r\n    <g id=\"xtick_6\">\r\n     <g id=\"line2d_6\">\r\n      <g>\r\n       <use style=\"stroke:#000000;stroke-width:0.8;\" x=\"349.684943\" xlink:href=\"#m8b8b7efcdf\" y=\"224.64\"/>\r\n      </g>\r\n     </g>\r\n     <g id=\"text_6\">\r\n      <!-- 1.0 -->\r\n      <g transform=\"translate(341.733381 239.238437)scale(0.1 -0.1)\">\r\n       <defs>\r\n        <path d=\"M 12.40625 8.296875 \r\nL 28.515625 8.296875 \r\nL 28.515625 63.921875 \r\nL 10.984375 60.40625 \r\nL 10.984375 69.390625 \r\nL 28.421875 72.90625 \r\nL 38.28125 72.90625 \r\nL 38.28125 8.296875 \r\nL 54.390625 8.296875 \r\nL 54.390625 0 \r\nL 12.40625 0 \r\nz\r\n\" id=\"DejaVuSans-49\"/>\r\n       </defs>\r\n       <use xlink:href=\"#DejaVuSans-49\"/>\r\n       <use x=\"63.623047\" xlink:href=\"#DejaVuSans-46\"/>\r\n       <use x=\"95.410156\" xlink:href=\"#DejaVuSans-48\"/>\r\n      </g>\r\n     </g>\r\n    </g>\r\n   </g>\r\n   <g id=\"matplotlib.axis_2\">\r\n    <g id=\"ytick_1\">\r\n     <g id=\"line2d_7\">\r\n      <defs>\r\n       <path d=\"M 0 0 \r\nL -3.5 0 \r\n\" id=\"m239ac8c9ba\" style=\"stroke:#000000;stroke-width:0.8;\"/>\r\n      </defs>\r\n      <g>\r\n       <use style=\"stroke:#000000;stroke-width:0.8;\" x=\"30.103125\" xlink:href=\"#m239ac8c9ba\" y=\"214.756364\"/>\r\n      </g>\r\n     </g>\r\n     <g id=\"text_7\">\r\n      <!-- 0.0 -->\r\n      <g transform=\"translate(7.2 218.555582)scale(0.1 -0.1)\">\r\n       <use xlink:href=\"#DejaVuSans-48\"/>\r\n       <use x=\"63.623047\" xlink:href=\"#DejaVuSans-46\"/>\r\n       <use x=\"95.410156\" xlink:href=\"#DejaVuSans-48\"/>\r\n      </g>\r\n     </g>\r\n    </g>\r\n    <g id=\"ytick_2\">\r\n     <g id=\"line2d_8\">\r\n      <g>\r\n       <use style=\"stroke:#000000;stroke-width:0.8;\" x=\"30.103125\" xlink:href=\"#m239ac8c9ba\" y=\"175.221818\"/>\r\n      </g>\r\n     </g>\r\n     <g id=\"text_8\">\r\n      <!-- 0.2 -->\r\n      <g transform=\"translate(7.2 179.021037)scale(0.1 -0.1)\">\r\n       <use xlink:href=\"#DejaVuSans-48\"/>\r\n       <use x=\"63.623047\" xlink:href=\"#DejaVuSans-46\"/>\r\n       <use x=\"95.410156\" xlink:href=\"#DejaVuSans-50\"/>\r\n      </g>\r\n     </g>\r\n    </g>\r\n    <g id=\"ytick_3\">\r\n     <g id=\"line2d_9\">\r\n      <g>\r\n       <use style=\"stroke:#000000;stroke-width:0.8;\" x=\"30.103125\" xlink:href=\"#m239ac8c9ba\" y=\"135.687273\"/>\r\n      </g>\r\n     </g>\r\n     <g id=\"text_9\">\r\n      <!-- 0.4 -->\r\n      <g transform=\"translate(7.2 139.486491)scale(0.1 -0.1)\">\r\n       <use xlink:href=\"#DejaVuSans-48\"/>\r\n       <use x=\"63.623047\" xlink:href=\"#DejaVuSans-46\"/>\r\n       <use x=\"95.410156\" xlink:href=\"#DejaVuSans-52\"/>\r\n      </g>\r\n     </g>\r\n    </g>\r\n    <g id=\"ytick_4\">\r\n     <g id=\"line2d_10\">\r\n      <g>\r\n       <use style=\"stroke:#000000;stroke-width:0.8;\" x=\"30.103125\" xlink:href=\"#m239ac8c9ba\" y=\"96.152727\"/>\r\n      </g>\r\n     </g>\r\n     <g id=\"text_10\">\r\n      <!-- 0.6 -->\r\n      <g transform=\"translate(7.2 99.951946)scale(0.1 -0.1)\">\r\n       <use xlink:href=\"#DejaVuSans-48\"/>\r\n       <use x=\"63.623047\" xlink:href=\"#DejaVuSans-46\"/>\r\n       <use x=\"95.410156\" xlink:href=\"#DejaVuSans-54\"/>\r\n      </g>\r\n     </g>\r\n    </g>\r\n    <g id=\"ytick_5\">\r\n     <g id=\"line2d_11\">\r\n      <g>\r\n       <use style=\"stroke:#000000;stroke-width:0.8;\" x=\"30.103125\" xlink:href=\"#m239ac8c9ba\" y=\"56.618182\"/>\r\n      </g>\r\n     </g>\r\n     <g id=\"text_11\">\r\n      <!-- 0.8 -->\r\n      <g transform=\"translate(7.2 60.417401)scale(0.1 -0.1)\">\r\n       <use xlink:href=\"#DejaVuSans-48\"/>\r\n       <use x=\"63.623047\" xlink:href=\"#DejaVuSans-46\"/>\r\n       <use x=\"95.410156\" xlink:href=\"#DejaVuSans-56\"/>\r\n      </g>\r\n     </g>\r\n    </g>\r\n    <g id=\"ytick_6\">\r\n     <g id=\"line2d_12\">\r\n      <g>\r\n       <use style=\"stroke:#000000;stroke-width:0.8;\" x=\"30.103125\" xlink:href=\"#m239ac8c9ba\" y=\"17.083636\"/>\r\n      </g>\r\n     </g>\r\n     <g id=\"text_12\">\r\n      <!-- 1.0 -->\r\n      <g transform=\"translate(7.2 20.882855)scale(0.1 -0.1)\">\r\n       <use xlink:href=\"#DejaVuSans-49\"/>\r\n       <use x=\"63.623047\" xlink:href=\"#DejaVuSans-46\"/>\r\n       <use x=\"95.410156\" xlink:href=\"#DejaVuSans-48\"/>\r\n      </g>\r\n     </g>\r\n    </g>\r\n   </g>\r\n   <g id=\"line2d_13\">\r\n    <path clip-path=\"url(#pbe62ae3a97)\" d=\"M 45.321307 214.756364 \r\nL 45.54391 214.645511 \r\nL 45.654943 214.574556 \r\nL 45.939219 214.463704 \r\nL 46.050039 214.400872 \r\nL 46.212895 214.289781 \r\nL 46.323929 214.223843 \r\nL 46.631226 214.112991 \r\nL 46.742045 214.077633 \r\nL 46.943555 213.966541 \r\nL 47.054588 213.904426 \r\nL 47.224298 213.793335 \r\nL 47.335224 213.725963 \r\nL 47.494761 213.615111 \r\nL 47.605581 213.537706 \r\nL 47.773791 213.426615 \r\nL 47.884825 213.318151 \r\nL 47.959775 213.207299 \r\nL 48.070381 213.015936 \r\nL 48.132697 212.904844 \r\nL 48.243623 212.741194 \r\nL 48.310115 212.630342 \r\nL 48.310115 212.630103 \r\nL 49.333509 210.076679 \r\nL 49.444436 209.592417 \r\nL 49.464672 209.481804 \r\nL 49.575706 208.892662 \r\nL 49.599155 208.782288 \r\nL 49.710188 208.243555 \r\nL 49.734065 208.132464 \r\nL 49.845099 207.652025 \r\nL 49.873473 207.541889 \r\nL 49.984507 207.08104 \r\nL 50.013738 206.970188 \r\nL 50.013738 206.969949 \r\nL 50.212356 206.25586 \r\nL 50.32339 205.874327 \r\nL 50.353584 205.763714 \r\nL 50.464618 205.36283 \r\nL 50.496204 205.251739 \r\nL 50.607238 204.841538 \r\nL 50.637111 204.730447 \r\nL 50.748144 204.312362 \r\nL 50.777696 204.201749 \r\nL 50.888302 203.774107 \r\nL 50.917318 203.663494 \r\nL 51.028138 203.246604 \r\nL 51.059724 203.135751 \r\nL 51.170758 202.749441 \r\nL 51.20031 202.63835 \r\nL 51.311343 202.236271 \r\nL 51.342394 202.125658 \r\nL 51.453321 201.729552 \r\nL 51.489725 201.6187 \r\nL 51.600545 201.264403 \r\nL 51.63363 201.153312 \r\nL 51.744557 200.779663 \r\nL 51.777321 200.668572 \r\nL 51.888354 200.340555 \r\nL 51.929042 200.230897 \r\nL 51.929042 200.229464 \r\nL 52.039754 199.902402 \r\nL 52.040075 199.902402 \r\nL 52.082262 199.791311 \r\nL 52.193295 199.451348 \r\nL 52.232484 199.340257 \r\nL 52.343517 199.014389 \r\nL 52.909928 197.47942 \r\nL 53.020855 197.194883 \r\nL 53.066039 197.08427 \r\nL 53.066039 197.083792 \r\nL 56.187188 190.390849 \r\nL 56.25989 190.279758 \r\nL 56.370924 190.095084 \r\nL 56.435702 189.984231 \r\nL 56.546308 189.796213 \r\nL 56.546736 189.796213 \r\nL 56.995368 189.066595 \r\nL 57.066571 188.955981 \r\nL 57.177497 188.793525 \r\nL 57.251163 188.683629 \r\nL 57.251163 188.682673 \r\nL 57.362196 188.499194 \r\nL 57.438539 188.388102 \r\nL 57.549358 188.220391 \r\nL 57.549572 188.220391 \r\nL 57.622381 188.1093 \r\nL 57.733308 187.946366 \r\nL 57.803654 187.835275 \r\nL 57.914581 187.666129 \r\nL 57.989531 187.555038 \r\nL 58.367281 186.982859 \r\nL 58.445337 186.872007 \r\nL 58.555728 186.716957 \r\nL 58.556371 186.716957 \r\nL 58.632606 186.606344 \r\nL 58.743639 186.458461 \r\nL 58.821802 186.347609 \r\nL 58.932407 186.188259 \r\nL 58.932836 186.188259 \r\nL 59.27386 185.698024 \r\nL 59.358554 185.587172 \r\nL 59.469588 185.446696 \r\nL 59.544538 185.335604 \r\nL 59.655036 185.18581 \r\nL 59.73609 185.075197 \r\nL 59.73609 185.074719 \r\nL 60.039211 184.668819 \r\nL 60.123905 184.557727 \r\nL 60.434735 184.135103 \r\nL 60.526924 184.024012 \r\nL 60.637957 183.892614 \r\nL 60.721367 183.781523 \r\nL 60.8324 183.649408 \r\nL 60.91506 183.538317 \r\nL 61.225676 183.116409 \r\nL 61.316901 183.005318 \r\nL 61.427935 182.882282 \r\nL 61.513485 182.771668 \r\nL 61.513485 182.771191 \r\nL 61.792836 182.419282 \r\nL 61.875603 182.308191 \r\nL 61.986636 182.177271 \r\nL 62.0739 182.06618 \r\nL 62.184827 181.93741 \r\nL 62.271448 181.826557 \r\nL 62.271448 181.826319 \r\nL 62.43045 181.624204 \r\nL 62.529813 181.513113 \r\nL 62.809592 181.166939 \r\nL 62.919983 181.031957 \r\nL 62.920518 181.031957 \r\nL 63.017954 180.920866 \r\nL 63.30298 180.556535 \r\nL 63.392813 180.445444 \r\nL 63.503847 180.30425 \r\nL 63.59443 180.193159 \r\nL 63.705356 180.077051 \r\nL 63.705463 180.077051 \r\nL 63.859968 179.894766 \r\nL 63.961794 179.783675 \r\nL 64.208273 179.504872 \r\nL 64.308921 179.393781 \r\nL 64.419955 179.257843 \r\nL 64.523279 179.146752 \r\nL 64.634206 179.019893 \r\nL 69.225668 174.063556 \r\nL 69.329528 173.952464 \r\nL 69.552237 173.726937 \r\nL 69.66113 173.615846 \r\nL 69.771735 173.501888 \r\nL 69.772163 173.501888 \r\nL 69.90065 173.390797 \r\nL 70.011469 173.292607 \r\nL 70.011576 173.292607 \r\nL 71.230912 172.098317 \r\nL 71.34912 171.987226 \r\nL 71.459404 171.872074 \r\nL 71.460046 171.872074 \r\nL 71.570009 171.761938 \r\nL 71.570009 171.760982 \r\nL 71.680936 171.65228 \r\nL 71.681043 171.65228 \r\nL 71.901504 171.43177 \r\nL 72.016393 171.320679 \r\nL 72.127426 171.2158 \r\nL 72.245205 171.104708 \r\nL 72.356239 171.012252 \r\nL 72.471556 170.901161 \r\nL 72.582589 170.795803 \r\nL 72.703259 170.684712 \r\nL 72.913442 170.487376 \r\nL 73.026617 170.376285 \r\nL 73.137651 170.263999 \r\nL 73.249969 170.152908 \r\nL 73.360896 170.050895 \r\nL 73.47557 169.939804 \r\nL 73.58564 169.827996 \r\nL 73.586603 169.827996 \r\nL 73.700314 169.716905 \r\nL 73.810598 169.615131 \r\nL 73.928806 169.50404 \r\nL 74.039518 169.397249 \r\nL 74.039732 169.397249 \r\nL 74.16415 169.286158 \r\nL 74.275184 169.176978 \r\nL 74.40003 169.065887 \r\nL 74.543399 168.933772 \r\nL 74.663641 168.82292 \r\nL 74.774353 168.717802 \r\nL 74.77446 168.717802 \r\nL 74.883995 168.606949 \r\nL 74.883995 168.60671 \r\nL 75.025758 168.481763 \r\nL 75.141931 168.370672 \r\nL 75.252644 168.262447 \r\nL 75.252858 168.262447 \r\nL 75.370851 168.151356 \r\nL 75.481029 168.044326 \r\nL 75.481671 168.044326 \r\nL 75.60384 167.933235 \r\nL 75.81156 167.740916 \r\nL 75.929981 167.629825 \r\nL 76.040801 167.531874 \r\nL 76.172071 167.420783 \r\nL 76.282677 167.320203 \r\nL 76.283105 167.320203 \r\nL 76.426688 167.209112 \r\nL 76.635479 167.014882 \r\nL 76.754329 166.903791 \r\nL 77.516253 166.220042 \r\nL 77.654483 166.108951 \r\nL 77.764874 166.014822 \r\nL 77.765517 166.014822 \r\nL 77.88351 165.903731 \r\nL 77.994544 165.809841 \r\nL 78.134701 165.69875 \r\nL 78.245307 165.60486 \r\nL 78.245735 165.60486 \r\nL 78.386213 165.493769 \r\nL 78.497033 165.398685 \r\nL 78.497247 165.398685 \r\nL 78.636655 165.28831 \r\nL 78.636655 165.288071 \r\nL 78.79116 165.157151 \r\nL 78.928747 165.04606 \r\nL 79.038817 164.957904 \r\nL 79.039674 164.957904 \r\nL 79.172978 164.846813 \r\nL 79.28337 164.744561 \r\nL 79.283905 164.744561 \r\nL 79.407252 164.633709 \r\nL 79.407252 164.63347 \r\nL 79.611438 164.449035 \r\nL 79.743993 164.338182 \r\nL 79.85492 164.23617 \r\nL 79.99058 164.125317 \r\nL 80.1014 164.044567 \r\nL 80.101507 164.044567 \r\nL 80.658067 163.58993 \r\nL 80.796725 163.478838 \r\nL 80.907438 163.385187 \r\nL 80.907652 163.385187 \r\nL 81.034961 163.274096 \r\nL 81.520853 162.898298 \r\nL 81.66797 162.787206 \r\nL 81.779004 162.697139 \r\nL 81.915628 162.586287 \r\nL 82.02634 162.493352 \r\nL 82.026554 162.493352 \r\nL 82.163928 162.382261 \r\nL 82.274747 162.292911 \r\nL 82.274961 162.292911 \r\nL 82.46662 162.136905 \r\nL 82.60121 162.025814 \r\nL 82.79137 161.873153 \r\nL 82.928208 161.762062 \r\nL 83.124471 161.595545 \r\nL 83.258204 161.484454 \r\nL 83.369237 161.401076 \r\nL 83.510358 161.289984 \r\nL 83.620857 161.193944 \r\nL 83.621071 161.193944 \r\nL 83.763584 161.082853 \r\nL 83.874189 160.989919 \r\nL 83.87451 160.989919 \r\nL 84.005352 160.878828 \r\nL 84.116065 160.790433 \r\nL 84.116386 160.790433 \r\nL 84.29616 160.660946 \r\nL 84.428929 160.550093 \r\nL 84.539963 160.461937 \r\nL 84.687187 160.350846 \r\nL 84.797578 160.267946 \r\nL 84.79822 160.267946 \r\nL 84.927349 160.156855 \r\nL 85.113333 160.013511 \r\nL 85.264947 159.90242 \r\nL 85.375767 159.822387 \r\nL 85.518601 159.711296 \r\nL 85.629206 159.62075 \r\nL 85.62942 159.62075 \r\nL 85.763903 159.509659 \r\nL 86.254078 159.129082 \r\nL 86.388989 159.01823 \r\nL 86.499595 158.936047 \r\nL 86.499809 158.936047 \r\nL 86.632043 158.824955 \r\nL 86.815243 158.687346 \r\nL 86.965037 158.576255 \r\nL 87.07607 158.49431 \r\nL 87.22308 158.383219 \r\nL 87.334007 158.297452 \r\nL 87.495578 158.186599 \r\nL 87.606184 158.095337 \r\nL 87.751695 157.984246 \r\nL 87.861979 157.898718 \r\nL 87.862728 157.898718 \r\nL 88.029439 157.787627 \r\nL 88.139402 157.705443 \r\nL 88.140366 157.705443 \r\nL 88.297655 157.594352 \r\nL 88.480855 157.456981 \r\nL 88.633968 157.34589 \r\nL 89.064719 157.031729 \r\nL 89.22083 156.920638 \r\nL 89.401353 156.788762 \r\nL 89.547828 156.677671 \r\nL 89.658326 156.590948 \r\nL 89.658861 156.590948 \r\nL 89.820754 156.479857 \r\nL 90.000314 156.350609 \r\nL 90.155782 156.239518 \r\nL 90.332665 156.116004 \r\nL 90.502053 156.004913 \r\nL 90.612445 155.932046 \r\nL 90.61298 155.932046 \r\nL 90.769947 155.821194 \r\nL 90.880874 155.74355 \r\nL 91.02767 155.632459 \r\nL 91.138596 155.545736 \r\nL 91.303701 155.434884 \r\nL 91.438398 155.341471 \r\nL 91.602861 155.23038 \r\nL 92.008556 154.943454 \r\nL 92.175696 154.832363 \r\nL 92.354506 154.705027 \r\nL 92.511795 154.593935 \r\nL 92.622293 154.524653 \r\nL 92.622614 154.524653 \r\nL 92.793287 154.413562 \r\nL 92.974025 154.281925 \r\nL 93.129279 154.170833 \r\nL 93.30295 154.054725 \r\nL 93.467841 153.943634 \r\nL 93.643011 153.823465 \r\nL 93.814861 153.712373 \r\nL 93.992065 153.588142 \r\nL 94.149354 153.477051 \r\nL 94.260281 153.400601 \r\nL 94.260388 153.400601 \r\nL 95.953089 152.279895 \r\nL 96.116267 152.169281 \r\nL 96.116267 152.168804 \r\nL 96.226979 152.098804 \r\nL 96.227301 152.098804 \r\nL 96.392406 151.987952 \r\nL 96.503332 151.914847 \r\nL 96.682999 151.803995 \r\nL 96.793711 151.731367 \r\nL 96.793926 151.731367 \r\nL 96.96599 151.620515 \r\nL 96.96599 151.620276 \r\nL 97.14373 151.494612 \r\nL 97.314403 151.383521 \r\nL 97.425436 151.304682 \r\nL 97.593004 151.193591 \r\nL 97.703931 151.114752 \r\nL 97.704038 151.114752 \r\nL 97.885204 150.982159 \r\nL 98.053521 150.871068 \r\nL 98.227834 150.753765 \r\nL 98.383517 150.643152 \r\nL 98.383517 150.642674 \r\nL 98.557402 150.525849 \r\nL 98.724327 150.414997 \r\nL 98.857631 150.327557 \r\nL 99.037084 150.216466 \r\nL 99.146833 150.147184 \r\nL 99.148118 150.147184 \r\nL 99.324251 150.036092 \r\nL 99.434643 149.975649 \r\nL 99.435285 149.975649 \r\nL 99.570196 149.880326 \r\nL 99.743652 149.769235 \r\nL 99.919786 149.647393 \r\nL 100.076218 149.536302 \r\nL 100.247105 149.426644 \r\nL 100.427628 149.315553 \r\nL 100.598515 149.20494 \r\nL 100.793493 149.093848 \r\nL 100.903778 149.027672 \r\nL 100.904527 149.027672 \r\nL 101.24705 148.81194 \r\nL 101.414832 148.700849 \r\nL 101.525116 148.629177 \r\nL 101.525759 148.629177 \r\nL 101.702963 148.518325 \r\nL 101.702963 148.518086 \r\nL 102.049662 148.297576 \r\nL 102.232006 148.186485 \r\nL 102.342932 148.108601 \r\nL 102.343039 148.108601 \r\nL 102.512856 148.001333 \r\nL 102.696912 147.890241 \r\nL 103.055925 147.655875 \r\nL 103.215783 147.544784 \r\nL 103.325853 147.476935 \r\nL 103.326175 147.476935 \r\nL 103.511302 147.365843 \r\nL 103.622015 147.29465 \r\nL 103.622229 147.29465 \r\nL 103.779518 147.183558 \r\nL 103.889266 147.111409 \r\nL 103.88948 147.111409 \r\nL 104.068612 147.000318 \r\nL 104.179324 146.931513 \r\nL 104.179646 146.931513 \r\nL 104.372589 146.820422 \r\nL 104.540478 146.717214 \r\nL 104.712329 146.606362 \r\nL 104.880218 146.503155 \r\nL 105.063953 146.392064 \r\nL 105.195759 146.311792 \r\nL 105.372749 146.2007 \r\nL 105.688826 146.014354 \r\nL 105.868064 145.903263 \r\nL 106.033597 145.805073 \r\nL 106.214014 145.693981 \r\nL 106.34689 145.608692 \r\nL 106.531054 145.49784 \r\nL 106.531054 145.497601 \r\nL 106.893064 145.260129 \r\nL 107.071232 145.149276 \r\nL 107.182266 145.079994 \r\nL 107.346621 144.984193 \r\nL 107.52511 144.873101 \r\nL 107.699102 144.756038 \r\nL 107.882624 144.644946 \r\nL 108.014858 144.561807 \r\nL 108.202983 144.450716 \r\nL 108.313482 144.378089 \r\nL 108.313696 144.378089 \r\nL 108.483512 144.266998 \r\nL 108.594439 144.192459 \r\nL 108.761364 144.081368 \r\nL 108.87229 144.016624 \r\nL 109.043177 143.905533 \r\nL 109.153569 143.840312 \r\nL 109.154104 143.840312 \r\nL 109.313427 143.729221 \r\nL 109.483779 143.620519 \r\nL 109.656914 143.509428 \r\nL 109.767948 143.439428 \r\nL 109.941404 143.328576 \r\nL 109.941404 143.328337 \r\nL 110.10758 143.229191 \r\nL 110.279002 143.1181 \r\nL 110.390036 143.051684 \r\nL 110.573772 142.940593 \r\nL 110.904731 142.737762 \r\nL 111.082578 142.626671 \r\nL 111.19329 142.54831 \r\nL 111.193612 142.54831 \r\nL 111.367604 142.437458 \r\nL 111.367604 142.437219 \r\nL 111.500052 142.353602 \r\nL 111.679397 142.24275 \r\nL 111.790431 142.177051 \r\nL 111.946007 142.065959 \r\nL 112.117536 141.95439 \r\nL 112.292384 141.843538 \r\nL 112.403418 141.773539 \r\nL 112.570772 141.662687 \r\nL 112.704719 141.572858 \r\nL 112.877961 141.461767 \r\nL 112.987496 141.386512 \r\nL 112.988781 141.386512 \r\nL 113.142322 141.275659 \r\nL 113.311603 141.169346 \r\nL 113.485167 141.058255 \r\nL 113.65948 140.940952 \r\nL 113.823407 140.829861 \r\nL 113.934334 140.755323 \r\nL 114.091408 140.64447 \r\nL 114.201693 140.570888 \r\nL 114.202228 140.570888 \r\nL 114.39046 140.459796 \r\nL 114.50128 140.391947 \r\nL 114.501387 140.391947 \r\nL 114.661888 140.280856 \r\nL 114.828492 140.180754 \r\nL 115.004197 140.069663 \r\nL 115.115124 139.994647 \r\nL 115.304106 139.883556 \r\nL 115.41514 139.817857 \r\nL 115.595235 139.706766 \r\nL 115.764194 139.601169 \r\nL 115.926515 139.490078 \r\nL 117.175189 138.699778 \r\nL 117.33569 138.588687 \r\nL 117.507755 138.476401 \r\nL 117.690313 138.36531 \r\nL 117.801132 138.297461 \r\nL 117.801346 138.297461 \r\nL 117.973411 138.185175 \r\nL 118.142478 138.074084 \r\nL 118.500634 137.840912 \r\nL 118.689402 137.73006 \r\nL 118.689402 137.729821 \r\nL 119.73239 137.09242 \r\nL 119.901028 136.981329 \r\nL 120.011848 136.916586 \r\nL 120.195905 136.805495 \r\nL 120.306724 136.728328 \r\nL 120.306938 136.728328 \r\nL 120.461015 136.617237 \r\nL 120.626655 136.519286 \r\nL 120.802575 136.408195 \r\nL 120.913608 136.338195 \r\nL 121.077 136.227104 \r\nL 121.404962 136.027379 \r\nL 121.569639 135.916288 \r\nL 121.743202 135.800657 \r\nL 121.919122 135.690044 \r\nL 122.085726 135.589226 \r\nL 122.278241 135.478135 \r\nL 122.445702 135.375644 \r\nL 122.629758 135.264553 \r\nL 122.740364 135.192165 \r\nL 122.740685 135.192165 \r\nL 122.895511 135.081312 \r\nL 122.895511 135.081073 \r\nL 123.064792 134.974521 \r\nL 123.246922 134.863908 \r\nL 123.246922 134.86343 \r\nL 123.415239 134.759506 \r\nL 123.58998 134.648654 \r\nL 123.700586 134.593706 \r\nL 123.701014 134.593706 \r\nL 123.886141 134.482615 \r\nL 124.054459 134.378213 \r\nL 124.227273 134.267122 \r\nL 124.337664 134.206201 \r\nL 124.338306 134.206201 \r\nL 124.511228 134.095348 \r\nL 124.643569 134.012687 \r\nL 124.811886 133.901596 \r\nL 124.922491 133.834463 \r\nL 124.922813 133.834463 \r\nL 125.104728 133.723372 \r\nL 125.215333 133.646445 \r\nL 125.215655 133.646445 \r\nL 125.409348 133.535354 \r\nL 125.714503 133.361191 \r\nL 125.891493 133.2501 \r\nL 126.002313 133.180579 \r\nL 126.002527 133.180579 \r\nL 126.175448 133.069726 \r\nL 126.28616 133.010717 \r\nL 126.286482 133.010717 \r\nL 126.455977 132.899864 \r\nL 126.455977 132.899625 \r\nL 126.792183 132.690822 \r\nL 126.972492 132.579731 \r\nL 127.083526 132.50997 \r\nL 127.259231 132.398879 \r\nL 127.370265 132.331269 \r\nL 127.539652 132.220178 \r\nL 127.707648 132.11697 \r\nL 128.050386 131.900761 \r\nL 128.23016 131.78967 \r\nL 128.548913 131.600456 \r\nL 128.710378 131.489843 \r\nL 128.821411 131.416499 \r\nL 129.164256 131.20005 \r\nL 129.33343 131.088959 \r\nL 129.499177 130.99053 \r\nL 129.67167 130.879439 \r\nL 129.838488 130.77886 \r\nL 130.009589 130.667768 \r\nL 130.337658 130.467804 \r\nL 130.515183 130.356952 \r\nL 130.626003 130.290536 \r\nL 130.626217 130.290536 \r\nL 130.797747 130.178967 \r\nL 130.969062 130.067876 \r\nL 131.13845 129.961324 \r\nL 131.313405 129.850233 \r\nL 131.423582 129.788595 \r\nL 131.424332 129.788595 \r\nL 131.637833 129.677504 \r\nL 132.004662 129.434298 \r\nL 132.185293 129.323446 \r\nL 132.296326 129.259897 \r\nL 132.482096 129.148806 \r\nL 132.59238 129.071639 \r\nL 132.592916 129.071639 \r\nL 132.766372 128.960787 \r\nL 132.932441 128.86188 \r\nL 133.099795 128.751028 \r\nL 133.233635 128.661677 \r\nL 133.411053 128.550825 \r\nL 133.543608 128.467208 \r\nL 133.73259 128.356117 \r\nL 133.903263 128.245742 \r\nL 134.107556 128.134651 \r\nL 134.21859 128.066563 \r\nL 134.391297 127.952844 \r\nL 134.560899 127.841753 \r\nL 134.732 127.731378 \r\nL 135.877457 127.017528 \r\nL 136.053376 126.906437 \r\nL 136.411425 126.673265 \r\nL 136.598908 126.562174 \r\nL 137.702285 125.87962 \r\nL 137.901974 125.768529 \r\nL 138.063653 125.678701 \r\nL 138.246746 125.567609 \r\nL 138.357137 125.494982 \r\nL 138.35778 125.494982 \r\nL 138.520208 125.383891 \r\nL 138.630492 125.30768 \r\nL 138.630813 125.30768 \r\nL 138.825363 125.196828 \r\nL 138.825363 125.196589 \r\nL 139.172276 124.975362 \r\nL 139.34766 124.864271 \r\nL 139.515549 124.761064 \r\nL 139.70164 124.649973 \r\nL 139.824987 124.575195 \r\nL 140.004547 124.464582 \r\nL 140.004547 124.464343 \r\nL 140.115474 124.39721 \r\nL 140.307989 124.286119 \r\nL 140.649335 124.071582 \r\nL 143.485886 122.362212 \r\nL 143.59692 122.295557 \r\nL 143.803997 122.184466 \r\nL 144.142345 121.973034 \r\nL 144.319014 121.862182 \r\nL 144.429726 121.792899 \r\nL 144.75469 121.596758 \r\nL 144.933821 121.485667 \r\nL 145.284482 121.260856 \r\nL 146.374154 120.588576 \r\nL 146.546111 120.477485 \r\nL 146.878035 120.273459 \r\nL 147.051598 120.162607 \r\nL 147.183511 120.081618 \r\nL 147.357182 119.970527 \r\nL 147.466502 119.901961 \r\nL 147.468216 119.901961 \r\nL 147.646812 119.79087 \r\nL 147.986123 119.578721 \r\nL 148.164291 119.467869 \r\nL 148.164291 119.46763 \r\nL 148.32886 119.370873 \r\nL 148.519663 119.259782 \r\nL 148.629733 119.197189 \r\nL 148.630696 119.197189 \r\nL 148.812612 119.086098 \r\nL 148.981785 118.980024 \r\nL 149.169376 118.868933 \r\nL 150.142125 118.283852 \r\nL 150.318365 118.172761 \r\nL 150.428864 118.108735 \r\nL 150.429399 118.108735 \r\nL 150.619238 117.997643 \r\nL 150.783807 117.901842 \r\nL 150.973539 117.790751 \r\nL 151.303856 117.588637 \r\nL 151.478383 117.477546 \r\nL 151.588882 117.405157 \r\nL 151.589203 117.405157 \r\nL 151.752702 117.294066 \r\nL 151.863629 117.226217 \r\nL 152.059784 117.115126 \r\nL 152.228423 117.010246 \r\nL 152.399631 116.899155 \r\nL 152.508952 116.827244 \r\nL 152.510451 116.827244 \r\nL 152.683158 116.716153 \r\nL 152.794084 116.654754 \r\nL 152.974179 116.543663 \r\nL 153.084892 116.481309 \r\nL 153.085213 116.481309 \r\nL 153.268306 116.370218 \r\nL 153.379019 116.305474 \r\nL 153.379233 116.305474 \r\nL 153.726467 116.084248 \r\nL 153.898211 115.973395 \r\nL 154.060318 115.882372 \r\nL 154.259043 115.771281 \r\nL 154.369863 115.701043 \r\nL 154.36997 115.701043 \r\nL 154.559916 115.589952 \r\nL 154.670842 115.523058 \r\nL 154.847083 115.411967 \r\nL 154.957795 115.338862 \r\nL 154.958117 115.338862 \r\nL 155.146349 115.227771 \r\nL 155.314238 115.124325 \r\nL 155.493155 115.013472 \r\nL 155.66083 114.910982 \r\nL 155.848527 114.799891 \r\nL 155.959133 114.727741 \r\nL 155.959561 114.727741 \r\nL 156.126915 114.625728 \r\nL 156.317074 114.514637 \r\nL 156.44963 114.430542 \r\nL 156.633151 114.319451 \r\nL 156.766349 114.23249 \r\nL 156.959828 114.121637 \r\nL 157.089171 114.050443 \r\nL 158.12188 113.420688 \r\nL 158.308186 113.309597 \r\nL 158.419112 113.242464 \r\nL 158.590106 113.131373 \r\nL 158.756817 113.030555 \r\nL 158.931666 112.919464 \r\nL 159.101589 112.811956 \r\nL 159.290036 112.701104 \r\nL 159.290036 112.700865 \r\nL 159.456105 112.601958 \r\nL 159.629347 112.490867 \r\nL 159.737918 112.427796 \r\nL 159.740274 112.427796 \r\nL 159.944353 112.316705 \r\nL 160.109886 112.218753 \r\nL 160.291802 112.107901 \r\nL 160.402835 112.049847 \r\nL 160.585393 111.938756 \r\nL 160.69632 111.873535 \r\nL 160.696427 111.873535 \r\nL 160.882411 111.762444 \r\nL 160.99323 111.691011 \r\nL 161.176645 111.57992 \r\nL 161.512315 111.371833 \r\nL 161.709007 111.260742 \r\nL 162.052387 111.044054 \r\nL 162.2479 110.932963 \r\nL 162.577789 110.730849 \r\nL 162.754244 110.619996 \r\nL 162.928021 110.503888 \r\nL 163.122785 110.393036 \r\nL 163.255662 110.307508 \r\nL 163.447749 110.196417 \r\nL 163.558676 110.135257 \r\nL 163.742411 110.024166 \r\nL 163.852909 109.945566 \r\nL 163.853338 109.945566 \r\nL 164.03279 109.834475 \r\nL 164.351865 109.644783 \r\nL 164.521039 109.533692 \r\nL 164.632072 109.464887 \r\nL 164.833475 109.353796 \r\nL 165.002434 109.248439 \r\nL 165.190881 109.137348 \r\nL 165.300951 109.072604 \r\nL 165.301808 109.072604 \r\nL 165.482117 108.961752 \r\nL 165.611674 108.890797 \r\nL 165.780848 108.779706 \r\nL 166.075189 108.617728 \r\nL 166.262244 108.506637 \r\nL 166.566114 108.333908 \r\nL 166.763448 108.222817 \r\nL 166.873304 108.158551 \r\nL 166.874481 108.158551 \r\nL 167.042477 108.055344 \r\nL 167.219146 107.944253 \r\nL 167.38907 107.836745 \r\nL 167.562633 107.725654 \r\nL 167.733306 107.615757 \r\nL 167.922288 107.504666 \r\nL 168.033322 107.436578 \r\nL 168.211061 107.325487 \r\nL 168.321345 107.258115 \r\nL 168.322095 107.258115 \r\nL 168.644382 107.064602 \r\nL 168.826511 106.953511 \r\nL 169.143873 106.765731 \r\nL 169.313046 106.65464 \r\nL 169.42408 106.592285 \r\nL 169.591434 106.490273 \r\nL 169.762856 106.379181 \r\nL 169.873568 106.310377 \r\nL 169.87389 106.310377 \r\nL 170.05088 106.199763 \r\nL 170.05088 106.199285 \r\nL 170.97823 105.647891 \r\nL 171.174707 105.5368 \r\nL 172.189857 104.920184 \r\nL 172.373164 104.809093 \r\nL 172.535593 104.71807 \r\nL 172.720185 104.606979 \r\nL 172.830683 104.545102 \r\nL 172.831111 104.545102 \r\nL 173.023091 104.434011 \r\nL 173.134125 104.368073 \r\nL 173.309509 104.256982 \r\nL 173.420329 104.183638 \r\nL 173.602672 104.072547 \r\nL 173.713599 104.010909 \r\nL 173.91029 103.899818 \r\nL 174.021324 103.829102 \r\nL 174.207736 103.71825 \r\nL 174.375518 103.61552 \r\nL 174.571995 103.504429 \r\nL 174.739242 103.402894 \r\nL 174.929509 103.291803 \r\nL 175.040542 103.228971 \r\nL 175.226955 103.11788 \r\nL 175.337881 103.051225 \r\nL 175.524401 102.940612 \r\nL 175.524401 102.940373 \r\nL 175.635434 102.877541 \r\nL 175.835124 102.766449 \r\nL 175.944444 102.703617 \r\nL 175.946157 102.703617 \r\nL 176.148845 102.592526 \r\nL 176.259343 102.52826 \r\nL 176.259878 102.52826 \r\nL 177.02994 102.09393 \r\nL 177.217959 101.982839 \r\nL 177.380922 101.89086 \r\nL 177.558983 101.779769 \r\nL 177.720983 101.68994 \r\nL 178.051407 101.487587 \r\nL 178.238034 101.376496 \r\nL 178.348104 101.310797 \r\nL 178.34896 101.310797 \r\nL 178.529376 101.199706 \r\nL 178.640303 101.138785 \r\nL 178.64041 101.138785 \r\nL 178.97062 100.936432 \r\nL 179.156497 100.825341 \r\nL 179.474501 100.636844 \r\nL 179.647529 100.525753 \r\nL 179.818738 100.415378 \r\nL 180.008469 100.304287 \r\nL 180.119396 100.243844 \r\nL 180.298206 100.132753 \r\nL 180.408276 100.067532 \r\nL 180.408918 100.067532 \r\nL 180.60379 99.956441 \r\nL 180.714823 99.887875 \r\nL 180.908302 99.777022 \r\nL 180.908302 99.776783 \r\nL 181.068375 99.691255 \r\nL 181.247721 99.580164 \r\nL 181.358754 99.521393 \r\nL 181.541847 99.410302 \r\nL 181.652239 99.352248 \r\nL 181.652881 99.352248 \r\nL 181.852356 99.241157 \r\nL 182.175285 99.047165 \r\nL 182.368979 98.936074 \r\nL 182.479477 98.874437 \r\nL 182.479905 98.874437 \r\nL 182.665568 98.763345 \r\nL 182.775745 98.703141 \r\nL 182.776602 98.703141 \r\nL 182.978968 98.59205 \r\nL 183.08861 98.520856 \r\nL 183.089573 98.520856 \r\nL 183.308107 98.409765 \r\nL 183.469465 98.320892 \r\nL 183.667655 98.209801 \r\nL 183.831903 98.114955 \r\nL 184.004396 98.004103 \r\nL 184.004396 98.003864 \r\nL 184.134703 97.929803 \r\nL 184.333536 97.818712 \r\nL 184.444355 97.752297 \r\nL 184.64019 97.641205 \r\nL 184.751224 97.579329 \r\nL 184.913117 97.4895 \r\nL 185.095996 97.378409 \r\nL 185.206815 97.319877 \r\nL 185.206922 97.319877 \r\nL 185.389052 97.208786 \r\nL 185.551052 97.118719 \r\nL 185.733288 97.007627 \r\nL 186.064676 96.80408 \r\nL 186.269826 96.692989 \r\nL 186.380003 96.631112 \r\nL 186.380646 96.631112 \r\nL 186.5783 96.520021 \r\nL 186.689227 96.455755 \r\nL 186.877138 96.344664 \r\nL 186.988065 96.285415 \r\nL 187.186898 96.174324 \r\nL 187.297717 96.109581 \r\nL 187.297931 96.109581 \r\nL 187.462287 96.014019 \r\nL 187.67718 95.903166 \r\nL 187.67718 95.902927 \r\nL 187.840679 95.809754 \r\nL 188.132772 95.649926 \r\nL 188.320683 95.538835 \r\nL 188.632798 95.357028 \r\nL 188.831738 95.245937 \r\nL 188.991596 95.160647 \r\nL 189.185718 95.049795 \r\nL 189.403288 94.925086 \r\nL 189.581991 94.813995 \r\nL 189.692704 94.748057 \r\nL 189.883078 94.636966 \r\nL 189.994112 94.573895 \r\nL 190.180738 94.462804 \r\nL 190.291236 94.400211 \r\nL 190.291772 94.400211 \r\nL 190.480861 94.289119 \r\nL 190.646501 94.19069 \r\nL 190.836982 94.079838 \r\nL 190.968895 93.997416 \r\nL 191.170512 93.886324 \r\nL 191.28101 93.825881 \r\nL 191.281545 93.825881 \r\nL 191.476524 93.71479 \r\nL 191.638738 93.624245 \r\nL 191.824829 93.513154 \r\nL 192.139406 93.32848 \r\nL 192.334813 93.217627 \r\nL 192.445632 93.152884 \r\nL 192.445739 93.152884 \r\nL 192.642109 93.041793 \r\nL 193.424378 92.598384 \r\nL 193.629742 92.487532 \r\nL 193.840566 92.372618 \r\nL 194.067238 92.261527 \r\nL 194.177308 92.207056 \r\nL 194.17795 92.207056 \r\nL 194.381815 92.095965 \r\nL 194.68772 91.920847 \r\nL 194.89801 91.809756 \r\nL 195.008936 91.743818 \r\nL 195.009043 91.743818 \r\nL 195.21869 91.632727 \r\nL 195.329617 91.565594 \r\nL 195.537444 91.454503 \r\nL 195.698801 91.366108 \r\nL 195.88425 91.255017 \r\nL 195.995283 91.19314 \r\nL 196.211141 91.082049 \r\nL 196.321746 91.017306 \r\nL 196.322174 91.017306 \r\nL 196.451089 90.94874 \r\nL 196.655704 90.837649 \r\nL 196.766737 90.774578 \r\nL 196.964178 90.663487 \r\nL 197.074783 90.598504 \r\nL 197.075212 90.598504 \r\nL 197.260446 90.487652 \r\nL 197.390325 90.414547 \r\nL 197.5792 90.303456 \r\nL 197.689484 90.238473 \r\nL 197.690233 90.238473 \r\nL 197.862512 90.127382 \r\nL 197.972582 90.065267 \r\nL 197.973439 90.065267 \r\nL 198.171201 89.954176 \r\nL 198.282234 89.89421 \r\nL 198.461794 89.783358 \r\nL 198.572828 89.723393 \r\nL 198.77937 89.612301 \r\nL 198.945546 89.512678 \r\nL 199.142558 89.402064 \r\nL 199.142558 89.401587 \r\nL 199.253592 89.335888 \r\nL 199.463988 89.224796 \r\nL 199.574915 89.16937 \r\nL 200.273024 88.788555 \r\nL 200.473784 88.677463 \r\nL 200.584818 88.611048 \r\nL 200.788469 88.500434 \r\nL 200.788469 88.499957 \r\nL 200.898646 88.438797 \r\nL 200.899288 88.438797 \r\nL 201.115574 88.327705 \r\nL 201.226393 88.268696 \r\nL 201.226608 88.268696 \r\nL 201.499534 88.130369 \r\nL 201.704363 88.019278 \r\nL 202.401509 87.639179 \r\nL 202.60516 87.528088 \r\nL 202.715979 87.460239 \r\nL 202.716193 87.460239 \r\nL 202.93719 87.349148 \r\nL 203.048224 87.28536 \r\nL 203.241382 87.174269 \r\nL 203.400705 87.089218 \r\nL 203.606818 86.978127 \r\nL 203.717852 86.919356 \r\nL 203.916256 86.808265 \r\nL 204.027076 86.746628 \r\nL 204.231691 86.635775 \r\nL 204.231691 86.635536 \r\nL 204.924232 86.258782 \r\nL 205.120602 86.14793 \r\nL 205.120602 86.147691 \r\nL 205.280996 86.061446 \r\nL 205.552531 85.924792 \r\nL 205.757038 85.813701 \r\nL 205.919895 85.721722 \r\nL 206.105344 85.610631 \r\nL 224.562309 75.442088 \r\nL 224.778595 75.331235 \r\nL 224.778595 75.330996 \r\nL 225.075077 75.166629 \r\nL 225.937756 74.663255 \r\nL 226.135518 74.552164 \r\nL 226.246231 74.484076 \r\nL 226.246552 74.484076 \r\nL 226.443885 74.373223 \r\nL 226.60535 74.284589 \r\nL 226.80172 74.173737 \r\nL 226.929457 74.110666 \r\nL 227.125185 73.999575 \r\nL 227.235897 73.934832 \r\nL 227.236004 73.934832 \r\nL 228.094722 73.434563 \r\nL 228.284132 73.323711 \r\nL 228.284132 73.323472 \r\nL 228.976674 72.946718 \r\nL 229.176577 72.835626 \r\nL 229.286968 72.769211 \r\nL 229.287183 72.769211 \r\nL 229.487621 72.658597 \r\nL 229.487621 72.658119 \r\nL 229.598227 72.590509 \r\nL 229.598655 72.590509 \r\nL 229.901669 72.418736 \r\nL 230.087118 72.307645 \r\nL 230.21796 72.230717 \r\nL 230.410368 72.119626 \r\nL 230.569049 72.036965 \r\nL 230.756746 71.925873 \r\nL 230.916176 71.84154 \r\nL 231.113938 71.730449 \r\nL 231.405281 71.571576 \r\nL 231.606148 71.460485 \r\nL 232.265926 71.108099 \r\nL 232.476858 70.997008 \r\nL 232.587356 70.934893 \r\nL 232.587891 70.934893 \r\nL 232.750641 70.843392 \r\nL 232.947546 70.732301 \r\nL 233.112651 70.635305 \r\nL 233.305595 70.52493 \r\nL 233.436437 70.448958 \r\nL 233.63195 70.338106 \r\nL 233.63195 70.337867 \r\nL 233.797484 70.239916 \r\nL 233.989785 70.129303 \r\nL 234.100605 70.062887 \r\nL 234.100819 70.062887 \r\nL 234.289587 69.951796 \r\nL 234.399978 69.880124 \r\nL 234.400299 69.880124 \r\nL 234.581465 69.769033 \r\nL 234.740146 69.686371 \r\nL 234.945831 69.57528 \r\nL 235.110722 69.479001 \r\nL 235.289104 69.36791 \r\nL 235.457849 69.262792 \r\nL 235.651543 69.1517 \r\nL 235.762576 69.093646 \r\nL 235.950274 68.982555 \r\nL 236.112595 68.89201 \r\nL 236.294189 68.780919 \r\nL 236.454797 68.693957 \r\nL 236.657484 68.583105 \r\nL 236.768411 68.520989 \r\nL 236.965102 68.409898 \r\nL 237.13449 68.303585 \r\nL 237.333644 68.192494 \r\nL 237.44457 68.118433 \r\nL 237.645009 68.007342 \r\nL 237.809793 67.910585 \r\nL 238.002737 67.799733 \r\nL 238.002737 67.799494 \r\nL 238.113771 67.741679 \r\nL 238.300718 67.630588 \r\nL 238.410788 67.566561 \r\nL 238.411645 67.566561 \r\nL 238.609086 67.45547 \r\nL 238.772906 67.361341 \r\nL 238.979555 67.25025 \r\nL 239.140591 67.162572 \r\nL 239.32861 67.05148 \r\nL 239.438572 66.980525 \r\nL 239.439536 66.980525 \r\nL 239.629803 66.869434 \r\nL 239.938599 66.691211 \r\nL 240.133684 66.580597 \r\nL 240.133684 66.58012 \r\nL 240.300074 66.480496 \r\nL 240.493125 66.369405 \r\nL 240.603195 66.307528 \r\nL 240.603944 66.307528 \r\nL 240.799029 66.196437 \r\nL 241.687513 65.67395 \r\nL 241.878636 65.562859 \r\nL 242.045026 65.462758 \r\nL 242.235186 65.351666 \r\nL 242.453506 65.226002 \r\nL 242.661333 65.11515 \r\nL 242.771831 65.043 \r\nL 242.772366 65.043 \r\nL 242.984476 64.931909 \r\nL 243.09551 64.865732 \r\nL 243.256332 64.778054 \r\nL 243.449062 64.666963 \r\nL 243.618021 64.561366 \r\nL 243.796189 64.450275 \r\nL 243.959902 64.356624 \r\nL 244.136464 64.245533 \r\nL 244.297179 64.157855 \r\nL 244.488088 64.046763 \r\nL 244.599015 63.980348 \r\nL 244.79153 63.869257 \r\nL 244.902564 63.802124 \r\nL 245.105358 63.691033 \r\nL 245.215964 63.62175 \r\nL 245.216285 63.62175 \r\nL 246.037634 63.149195 \r\nL 246.216123 63.038581 \r\nL 246.216123 63.038343 \r\nL 246.378873 62.946842 \r\nL 246.581025 62.83575 \r\nL 246.691951 62.775307 \r\nL 246.885645 62.664216 \r\nL 247.052249 62.563637 \r\nL 247.242302 62.452546 \r\nL 247.40912 62.351728 \r\nL 247.625512 62.240875 \r\nL 247.625512 62.240636 \r\nL 247.735261 62.182821 \r\nL 247.736439 62.182821 \r\nL 248.051445 61.997669 \r\nL 248.242247 61.886578 \r\nL 248.569352 61.687331 \r\nL 248.773217 61.57624 \r\nL 248.947209 61.459415 \r\nL 249.129446 61.348801 \r\nL 249.129446 61.348562 \r\nL 249.293694 61.253478 \r\nL 249.473682 61.142387 \r\nL 249.584609 61.077643 \r\nL 249.780015 60.966552 \r\nL 249.947797 60.863823 \r\nL 250.125537 60.753448 \r\nL 250.125537 60.752971 \r\nL 250.236356 60.685838 \r\nL 250.447502 60.574747 \r\nL 250.764328 60.387684 \r\nL 251.703885 59.827211 \r\nL 251.871239 59.716598 \r\nL 252.033024 59.62653 \r\nL 252.22736 59.515439 \r\nL 252.33818 59.459535 \r\nL 252.338287 59.459535 \r\nL 252.525341 59.348444 \r\nL 252.655862 59.273428 \r\nL 253.559122 58.739951 \r\nL 253.757419 58.62886 \r\nL 253.928413 58.518247 \r\nL 254.111827 58.407155 \r\nL 254.277575 58.308965 \r\nL 254.456385 58.198591 \r\nL 254.456385 58.197874 \r\nL 254.628557 58.085111 \r\nL 254.818396 57.974258 \r\nL 254.928359 57.911187 \r\nL 254.929429 57.911187 \r\nL 255.131902 57.800813 \r\nL 255.242829 57.728663 \r\nL 255.411574 57.623784 \r\nL 255.590171 57.512693 \r\nL 255.889009 57.345697 \r\nL 256.074136 57.234845 \r\nL 256.20455 57.160068 \r\nL 256.389891 57.049454 \r\nL 256.389891 57.048977 \r\nL 256.555639 56.950547 \r\nL 256.751366 56.839695 \r\nL 256.751366 56.839456 \r\nL 256.922896 56.728126 \r\nL 257.108237 56.617035 \r\nL 257.269595 56.52864 \r\nL 257.455258 56.417549 \r\nL 257.621862 56.317208 \r\nL 257.800993 56.206117 \r\nL 257.911385 56.138268 \r\nL 257.911813 56.138268 \r\nL 258.802866 55.613631 \r\nL 258.983818 55.502779 \r\nL 259.093888 55.442575 \r\nL 259.094637 55.442575 \r\nL 259.263918 55.331483 \r\nL 259.374309 55.26459 \r\nL 259.374738 55.26459 \r\nL 259.54252 55.153499 \r\nL 259.711265 55.048141 \r\nL 259.883972 54.93705 \r\nL 259.994685 54.87804 \r\nL 259.994899 54.87804 \r\nL 260.327786 54.67282 \r\nL 260.515269 54.561729 \r\nL 260.682944 54.458761 \r\nL 260.877815 54.347909 \r\nL 261.052877 54.227022 \r\nL 261.235114 54.115931 \r\nL 261.346148 54.047126 \r\nL 261.527742 53.936035 \r\nL 261.697665 53.828289 \r\nL 261.866839 53.717198 \r\nL 261.977765 53.651976 \r\nL 261.977872 53.651976 \r\nL 262.896657 53.106794 \r\nL 263.084569 52.995702 \r\nL 263.195602 52.933348 \r\nL 264.181521 52.338473 \r\nL 264.368148 52.227382 \r\nL 264.479074 52.156188 \r\nL 264.64707 52.045097 \r\nL 264.955117 51.867829 \r\nL 265.13821 51.756737 \r\nL 265.308668 51.647796 \r\nL 265.487907 51.536944 \r\nL 265.598512 51.47029 \r\nL 265.598941 51.47029 \r\nL 265.791349 51.359198 \r\nL 265.902168 51.296127 \r\nL 266.073484 51.185036 \r\nL 266.240837 51.083023 \r\nL 266.414829 50.971932 \r\nL 266.735831 50.780091 \r\nL 266.929846 50.669 \r\nL 267.10009 50.560776 \r\nL 267.315305 50.449923 \r\nL 267.426017 50.392825 \r\nL 267.426339 50.392825 \r\nL 267.608361 50.281973 \r\nL 267.608361 50.281734 \r\nL 267.77186 50.188083 \r\nL 267.958165 50.07723 \r\nL 267.958165 50.076992 \r\nL 268.127767 49.970201 \r\nL 268.303579 49.85911 \r\nL 268.414506 49.791021 \r\nL 268.590211 49.67993 \r\nL 269.397855 49.198057 \r\nL 269.508675 49.137136 \r\nL 269.508782 49.137136 \r\nL 269.672923 49.042052 \r\nL 269.855802 48.930961 \r\nL 269.966622 48.871234 \r\nL 269.966836 48.871234 \r\nL 270.169202 48.760143 \r\nL 270.330238 48.672226 \r\nL 270.521576 48.561135 \r\nL 270.632289 48.495675 \r\nL 270.63261 48.495675 \r\nL 270.810671 48.384584 \r\nL 270.921704 48.321512 \r\nL 271.10287 48.210421 \r\nL 271.265405 48.119159 \r\nL 271.457064 48.008068 \r\nL 271.567884 47.943325 \r\nL 271.567991 47.943325 \r\nL 271.763397 47.832234 \r\nL 271.925718 47.741449 \r\nL 272.102708 47.630358 \r\nL 272.272846 47.522373 \r\nL 272.466325 47.411521 \r\nL 272.466325 47.411282 \r\nL 272.629717 47.316914 \r\nL 272.815594 47.206062 \r\nL 272.925557 47.146096 \r\nL 272.926628 47.146096 \r\nL 273.115824 47.035005 \r\nL 273.276111 46.948999 \r\nL 273.45385 46.837908 \r\nL 273.62024 46.737568 \r\nL 273.811899 46.626476 \r\nL 273.922825 46.567945 \r\nL 274.109024 46.456853 \r\nL 274.409789 46.287708 \r\nL 274.599306 46.176617 \r\nL 274.710233 46.114263 \r\nL 274.889686 46.003171 \r\nL 275.823568 45.44676 \r\nL 275.998738 45.335669 \r\nL 276.10945 45.272359 \r\nL 276.109771 45.272359 \r\nL 276.305178 45.161507 \r\nL 276.416104 45.096047 \r\nL 276.616757 44.984955 \r\nL 276.727791 44.922123 \r\nL 276.9399 44.811032 \r\nL 277.050506 44.751783 \r\nL 277.050827 44.751783 \r\nL 277.228352 44.640692 \r\nL 277.520124 44.481342 \r\nL 277.712639 44.37049 \r\nL 277.712639 44.370251 \r\nL 278.042314 44.168854 \r\nL 278.223373 44.057762 \r\nL 278.334085 43.988958 \r\nL 278.520176 43.877866 \r\nL 278.631103 43.806672 \r\nL 278.63121 43.806672 \r\nL 278.830685 43.695581 \r\nL 279.005212 43.577801 \r\nL 279.172459 43.46671 \r\nL 279.486394 43.282513 \r\nL 279.670022 43.171661 \r\nL 279.670022 43.171422 \r\nL 279.780628 43.105723 \r\nL 279.780842 43.105723 \r\nL 279.96779 42.994632 \r\nL 280.127755 42.909343 \r\nL 280.302925 42.798729 \r\nL 280.413852 42.738286 \r\nL 281.128664 42.345047 \r\nL 281.325998 42.233956 \r\nL 281.628798 42.062422 \r\nL 281.817137 41.951331 \r\nL 281.927636 41.885154 \r\nL 281.927743 41.885154 \r\nL 282.12347 41.774302 \r\nL 282.12347 41.774063 \r\nL 282.286327 41.682323 \r\nL 282.475095 41.571232 \r\nL 282.585807 41.506011 \r\nL 282.78978 41.394919 \r\nL 282.899743 41.333521 \r\nL 282.900706 41.333521 \r\nL 283.088939 41.22243 \r\nL 283.252009 41.129256 \r\nL 283.456731 41.018165 \r\nL 283.567658 40.959633 \r\nL 283.753428 40.848542 \r\nL 283.862748 40.786666 \r\nL 283.864461 40.786666 \r\nL 284.044985 40.675574 \r\nL 284.155911 40.617759 \r\nL 284.456248 40.448853 \r\nL 284.660435 40.337762 \r\nL 284.771361 40.266807 \r\nL 284.972335 40.155716 \r\nL 285.083262 40.094556 \r\nL 285.083369 40.094556 \r\nL 285.261109 39.983465 \r\nL 285.3715 39.912748 \r\nL 285.371928 39.912748 \r\nL 286.170364 39.457155 \r\nL 286.386114 39.346064 \r\nL 286.496077 39.282754 \r\nL 286.497041 39.282754 \r\nL 286.677243 39.171663 \r\nL 286.839885 39.080401 \r\nL 287.056599 38.96931 \r\nL 287.219563 38.877092 \r\nL 287.433385 38.766001 \r\nL 287.594315 38.678562 \r\nL 287.801606 38.56747 \r\nL 287.959751 38.486004 \r\nL 288.161903 38.374912 \r\nL 288.27283 38.31423 \r\nL 288.484618 38.203139 \r\nL 288.595652 38.141024 \r\nL 288.783885 38.03041 \r\nL 288.783885 38.030172 \r\nL 288.994602 37.915497 \r\nL 289.217633 37.804406 \r\nL 289.328239 37.734884 \r\nL 289.510904 37.624032 \r\nL 289.621937 37.565739 \r\nL 289.852999 37.454648 \r\nL 289.981485 37.38871 \r\nL 290.211904 37.277619 \r\nL 290.322831 37.219803 \r\nL 290.525518 37.108712 \r\nL 290.636016 37.049941 \r\nL 290.636123 37.049941 \r\nL 290.826926 36.93885 \r\nL 290.937638 36.880557 \r\nL 290.937852 36.880557 \r\nL 291.1672 36.769466 \r\nL 291.324489 36.689911 \r\nL 291.54934 36.579058 \r\nL 291.54934 36.578819 \r\nL 292.186098 36.243396 \r\nL 292.411377 36.132305 \r\nL 292.522197 36.073295 \r\nL 292.73527 35.962204 \r\nL 292.84609 35.900566 \r\nL 292.846304 35.900566 \r\nL 293.071369 35.789475 \r\nL 293.18176 35.735482 \r\nL 293.182296 35.735482 \r\nL 293.759414 35.444495 \r\nL 293.994865 35.333404 \r\nL 294.591042 35.028321 \r\nL 294.840734 34.91723 \r\nL 294.951018 34.864193 \r\nL 294.951661 34.864193 \r\nL 295.179831 34.753102 \r\nL 295.290115 34.69887 \r\nL 295.290543 34.69887 \r\nL 295.50972 34.588018 \r\nL 295.619683 34.539281 \r\nL 295.620646 34.539281 \r\nL 295.853956 34.42819 \r\nL 296.377538 34.1771 \r\nL 296.600248 34.066009 \r\nL 296.859684 33.942734 \r\nL 297.123188 33.831643 \r\nL 297.234115 33.783384 \r\nL 297.473956 33.672293 \r\nL 297.584668 33.622361 \r\nL 297.584989 33.622361 \r\nL 297.837786 33.51127 \r\nL 297.947749 33.457039 \r\nL 297.94882 33.457039 \r\nL 298.187377 33.345947 \r\nL 298.34156 33.27332 \r\nL 298.614701 33.162468 \r\nL 298.724557 33.108475 \r\nL 298.72552 33.108475 \r\nL 298.978425 32.997384 \r\nL 299.088388 32.947692 \r\nL 299.089244 32.947692 \r\nL 299.310776 32.836839 \r\nL 299.420739 32.78858 \r\nL 299.42181 32.78858 \r\nL 299.684457 32.677489 \r\nL 299.811766 32.616091 \r\nL 300.054498 32.504999 \r\nL 300.165425 32.460802 \r\nL 300.425289 32.349711 \r\nL 300.536001 32.295957 \r\nL 300.536322 32.295957 \r\nL 300.796936 32.184866 \r\nL 300.907541 32.141385 \r\nL 300.907755 32.141385 \r\nL 301.169011 32.030294 \r\nL 301.280044 31.978451 \r\nL 301.52888 31.86736 \r\nL 301.683492 31.793777 \r\nL 301.953313 31.682686 \r\nL 302.105355 31.615076 \r\nL 302.343269 31.504223 \r\nL 302.343269 31.503984 \r\nL 306.05824 29.967821 \r\nL 306.325063 29.85673 \r\nL 306.435562 29.813727 \r\nL 306.725298 29.702874 \r\nL 306.835583 29.65151 \r\nL 306.835797 29.65151 \r\nL 307.087844 29.540419 \r\nL 307.198343 29.49216 \r\nL 307.198771 29.49216 \r\nL 307.454994 29.381068 \r\nL 307.564743 29.336154 \r\nL 307.565278 29.336154 \r\nL 307.835956 29.225063 \r\nL 308.068303 29.131412 \r\nL 308.363821 29.020321 \r\nL 308.474748 28.976123 \r\nL 308.761808 28.865032 \r\nL 308.907426 28.811756 \r\nL 309.181209 28.700904 \r\nL 309.328433 28.643805 \r\nL 309.609497 28.532714 \r\nL 309.75822 28.47251 \r\nL 310.070014 28.361419 \r\nL 310.18094 28.318416 \r\nL 310.452903 28.207325 \r\nL 310.816306 28.075449 \r\nL 311.11236 27.964358 \r\nL 311.222965 27.920877 \r\nL 311.223179 27.920877 \r\nL 311.558636 27.809786 \r\nL 311.702755 27.759377 \r\nL 311.993669 27.648285 \r\nL 312.136718 27.600743 \r\nL 312.465215 27.489652 \r\nL 312.576248 27.456205 \r\nL 312.864593 27.345114 \r\nL 312.9737 27.307128 \r\nL 312.974984 27.307128 \r\nL 313.24866 27.196276 \r\nL 313.24866 27.196037 \r\nL 313.46698 27.11887 \r\nL 313.7928 27.007779 \r\nL 313.940667 26.949008 \r\nL 314.265523 26.837917 \r\nL 314.37645 26.794436 \r\nL 314.730537 26.683345 \r\nL 314.841249 26.643209 \r\nL 314.841571 26.643209 \r\nL 315.15497 26.532357 \r\nL 315.298126 26.484576 \r\nL 315.623518 26.373485 \r\nL 315.766459 26.325465 \r\nL 316.081893 26.214373 \r\nL 316.192926 26.182121 \r\nL 316.526135 26.07103 \r\nL 316.733319 26.006048 \r\nL 317.030765 25.894956 \r\nL 317.174134 25.84622 \r\nL 317.496635 25.735129 \r\nL 317.60617 25.700009 \r\nL 317.607669 25.700009 \r\nL 317.969465 25.589157 \r\nL 318.080392 25.551888 \r\nL 318.416705 25.440797 \r\nL 318.527739 25.405439 \r\nL 318.860197 25.294348 \r\nL 318.970053 25.261379 \r\nL 318.97091 25.261379 \r\nL 319.314825 25.150287 \r\nL 319.425109 25.108718 \r\nL 319.425645 25.108718 \r\nL 319.784015 24.997627 \r\nL 319.927063 24.949845 \r\nL 320.245709 24.838993 \r\nL 320.245709 24.838754 \r\nL 320.390363 24.787629 \r\nL 320.746699 24.676537 \r\nL 320.855377 24.641657 \r\nL 320.857197 24.641657 \r\nL 321.233127 24.530566 \r\nL 321.343947 24.499508 \r\nL 321.722874 24.388417 \r\nL 321.833694 24.35282 \r\nL 322.206626 24.241729 \r\nL 322.317659 24.216883 \r\nL 322.667357 24.105792 \r\nL 322.809013 24.060877 \r\nL 323.206357 23.949786 \r\nL 323.31707 23.918012 \r\nL 323.317284 23.918012 \r\nL 323.704991 23.806921 \r\nL 323.814312 23.77204 \r\nL 323.815061 23.77204 \r\nL 324.210371 23.661188 \r\nL 324.210371 23.660949 \r\nL 324.349458 23.62153 \r\nL 324.713289 23.510439 \r\nL 324.833852 23.479142 \r\nL 325.257428 23.368051 \r\nL 325.368355 23.341771 \r\nL 325.779512 23.230919 \r\nL 325.890117 23.203206 \r\nL 325.890545 23.203206 \r\nL 326.329326 23.092115 \r\nL 326.438219 23.062252 \r\nL 326.44036 23.062252 \r\nL 326.578376 23.024743 \r\nL 326.973257 22.913652 \r\nL 327.08397 22.888806 \r\nL 327.084077 22.888806 \r\nL 327.496411 22.777715 \r\nL 327.606802 22.748807 \r\nL 327.607445 22.748807 \r\nL 327.742034 22.719183 \r\nL 328.13274 22.608092 \r\nL 328.243238 22.580618 \r\nL 328.243774 22.580618 \r\nL 328.380184 22.546454 \r\nL 328.769069 22.435363 \r\nL 328.877426 22.405978 \r\nL 328.879889 22.405978 \r\nL 329.286227 22.294886 \r\nL 329.425206 22.256184 \r\nL 329.869555 22.145093 \r\nL 329.980589 22.108062 \r\nL 330.394529 21.996971 \r\nL 330.533402 21.958746 \r\nL 330.955158 21.847655 \r\nL 331.065978 21.818747 \r\nL 331.066192 21.818747 \r\nL 331.49812 21.707656 \r\nL 331.607441 21.677076 \r\nL 331.60894 21.677076 \r\nL 332.021702 21.565985 \r\nL 332.132094 21.539228 \r\nL 332.132736 21.539228 \r\nL 332.546891 21.428375 \r\nL 332.546891 21.428137 \r\nL 332.740691 21.377966 \r\nL 333.151848 21.266875 \r\nL 333.262239 21.240118 \r\nL 333.262881 21.240118 \r\nL 333.706373 21.129027 \r\nL 333.816443 21.101552 \r\nL 333.817407 21.101552 \r\nL 334.231347 20.990461 \r\nL 334.428681 20.93623 \r\nL 334.830844 20.825139 \r\nL 335.028713 20.770668 \r\nL 335.429697 20.659577 \r\nL 335.538697 20.634492 \r\nL 335.540624 20.634492 \r\nL 335.956278 20.52364 \r\nL 336.066883 20.49521 \r\nL 336.067311 20.49521 \r\nL 336.499775 20.384119 \r\nL 336.635007 20.353061 \r\nL 337.072931 20.242209 \r\nL 337.072931 20.24197 \r\nL 337.213303 20.2004 \r\nL 337.607542 20.089309 \r\nL 337.717398 20.062552 \r\nL 337.71804 20.062552 \r\nL 338.140654 19.95146 \r\nL 338.251152 19.918491 \r\nL 338.25158 19.918491 \r\nL 338.693145 19.8074 \r\nL 338.803965 19.775387 \r\nL 338.804179 19.775387 \r\nL 339.216941 19.664296 \r\nL 339.327118 19.638494 \r\nL 339.73881 19.527403 \r\nL 339.849094 19.493717 \r\nL 340.221063 19.382626 \r\nL 340.331454 19.357302 \r\nL 340.331882 19.357302 \r\nL 340.735544 19.246211 \r\nL 340.84647 19.212525 \r\nL 341.243922 19.101434 \r\nL 341.354741 19.063448 \r\nL 341.714931 18.952596 \r\nL 341.82543 18.924644 \r\nL 341.825858 18.924644 \r\nL 342.193757 18.813553 \r\nL 342.304791 18.779867 \r\nL 342.675688 18.668776 \r\nL 342.786615 18.635329 \r\nL 343.14991 18.524238 \r\nL 343.259659 18.493658 \r\nL 343.260837 18.493658 \r\nL 343.619849 18.382567 \r\nL 343.727885 18.351509 \r\nL 343.728956 18.351509 \r\nL 344.07437 18.240418 \r\nL 344.184012 18.206971 \r\nL 344.184868 18.206971 \r\nL 344.525357 18.09588 \r\nL 344.664444 18.056699 \r\nL 344.990585 17.945608 \r\nL 345.099692 17.900933 \r\nL 345.10012 17.900933 \r\nL 345.446712 17.789842 \r\nL 345.557317 17.751139 \r\nL 345.557639 17.751139 \r\nL 345.875749 17.640048 \r\nL 345.985498 17.599434 \r\nL 346.293116 17.488343 \r\nL 346.404043 17.456329 \r\nL 346.771728 17.345238 \r\nL 346.882762 17.318481 \r\nL 347.33482 17.207628 \r\nL 347.445853 17.187321 \r\nL 349.684943 17.083636 \r\nL 349.684943 17.083636 \r\n\" style=\"fill:none;stroke:#1f77b4;stroke-linecap:square;stroke-width:1.5;\"/>\r\n   </g>\r\n   <g id=\"line2d_14\">\r\n    <path clip-path=\"url(#pbe62ae3a97)\" d=\"M 45.321307 214.756364 \r\nL 349.684943 17.083636 \r\n\" style=\"fill:none;stroke:#ff7f0e;stroke-dasharray:5.55,2.4;stroke-dashoffset:0;stroke-width:1.5;\"/>\r\n   </g>\r\n   <g id=\"patch_3\">\r\n    <path d=\"M 30.103125 224.64 \r\nL 30.103125 7.2 \r\n\" style=\"fill:none;stroke:#000000;stroke-linecap:square;stroke-linejoin:miter;stroke-width:0.8;\"/>\r\n   </g>\r\n   <g id=\"patch_4\">\r\n    <path d=\"M 364.903125 224.64 \r\nL 364.903125 7.2 \r\n\" style=\"fill:none;stroke:#000000;stroke-linecap:square;stroke-linejoin:miter;stroke-width:0.8;\"/>\r\n   </g>\r\n   <g id=\"patch_5\">\r\n    <path d=\"M 30.103125 224.64 \r\nL 364.903125 224.64 \r\n\" style=\"fill:none;stroke:#000000;stroke-linecap:square;stroke-linejoin:miter;stroke-width:0.8;\"/>\r\n   </g>\r\n   <g id=\"patch_6\">\r\n    <path d=\"M 30.103125 7.2 \r\nL 364.903125 7.2 \r\n\" style=\"fill:none;stroke:#000000;stroke-linecap:square;stroke-linejoin:miter;stroke-width:0.8;\"/>\r\n   </g>\r\n   <g id=\"legend_1\">\r\n    <g id=\"patch_7\">\r\n     <path d=\"M 37.103125 59.234375 \r\nL 107.151563 59.234375 \r\nQ 109.151563 59.234375 109.151563 57.234375 \r\nL 109.151563 14.2 \r\nQ 109.151563 12.2 107.151563 12.2 \r\nL 37.103125 12.2 \r\nQ 35.103125 12.2 35.103125 14.2 \r\nL 35.103125 57.234375 \r\nQ 35.103125 59.234375 37.103125 59.234375 \r\nz\r\n\" style=\"fill:#ffffff;opacity:0.8;stroke:#cccccc;stroke-linejoin:miter;\"/>\r\n    </g>\r\n    <g id=\"line2d_15\">\r\n     <path d=\"M 39.103125 20.298437 \r\nL 59.103125 20.298437 \r\n\" style=\"fill:none;stroke:#1f77b4;stroke-linecap:square;stroke-width:1.5;\"/>\r\n    </g>\r\n    <g id=\"line2d_16\"/>\r\n    <g id=\"text_13\">\r\n     <!-- Logistic -->\r\n     <g transform=\"translate(67.103125 23.798437)scale(0.1 -0.1)\">\r\n      <defs>\r\n       <path d=\"M 9.8125 72.90625 \r\nL 19.671875 72.90625 \r\nL 19.671875 8.296875 \r\nL 55.171875 8.296875 \r\nL 55.171875 0 \r\nL 9.8125 0 \r\nz\r\n\" id=\"DejaVuSans-76\"/>\r\n       <path d=\"M 30.609375 48.390625 \r\nQ 23.390625 48.390625 19.1875 42.75 \r\nQ 14.984375 37.109375 14.984375 27.296875 \r\nQ 14.984375 17.484375 19.15625 11.84375 \r\nQ 23.34375 6.203125 30.609375 6.203125 \r\nQ 37.796875 6.203125 41.984375 11.859375 \r\nQ 46.1875 17.53125 46.1875 27.296875 \r\nQ 46.1875 37.015625 41.984375 42.703125 \r\nQ 37.796875 48.390625 30.609375 48.390625 \r\nz\r\nM 30.609375 56 \r\nQ 42.328125 56 49.015625 48.375 \r\nQ 55.71875 40.765625 55.71875 27.296875 \r\nQ 55.71875 13.875 49.015625 6.21875 \r\nQ 42.328125 -1.421875 30.609375 -1.421875 \r\nQ 18.84375 -1.421875 12.171875 6.21875 \r\nQ 5.515625 13.875 5.515625 27.296875 \r\nQ 5.515625 40.765625 12.171875 48.375 \r\nQ 18.84375 56 30.609375 56 \r\nz\r\n\" id=\"DejaVuSans-111\"/>\r\n       <path d=\"M 45.40625 27.984375 \r\nQ 45.40625 37.75 41.375 43.109375 \r\nQ 37.359375 48.484375 30.078125 48.484375 \r\nQ 22.859375 48.484375 18.828125 43.109375 \r\nQ 14.796875 37.75 14.796875 27.984375 \r\nQ 14.796875 18.265625 18.828125 12.890625 \r\nQ 22.859375 7.515625 30.078125 7.515625 \r\nQ 37.359375 7.515625 41.375 12.890625 \r\nQ 45.40625 18.265625 45.40625 27.984375 \r\nz\r\nM 54.390625 6.78125 \r\nQ 54.390625 -7.171875 48.1875 -13.984375 \r\nQ 42 -20.796875 29.203125 -20.796875 \r\nQ 24.46875 -20.796875 20.265625 -20.09375 \r\nQ 16.0625 -19.390625 12.109375 -17.921875 \r\nL 12.109375 -9.1875 \r\nQ 16.0625 -11.328125 19.921875 -12.34375 \r\nQ 23.78125 -13.375 27.78125 -13.375 \r\nQ 36.625 -13.375 41.015625 -8.765625 \r\nQ 45.40625 -4.15625 45.40625 5.171875 \r\nL 45.40625 9.625 \r\nQ 42.625 4.78125 38.28125 2.390625 \r\nQ 33.9375 0 27.875 0 \r\nQ 17.828125 0 11.671875 7.65625 \r\nQ 5.515625 15.328125 5.515625 27.984375 \r\nQ 5.515625 40.671875 11.671875 48.328125 \r\nQ 17.828125 56 27.875 56 \r\nQ 33.9375 56 38.28125 53.609375 \r\nQ 42.625 51.21875 45.40625 46.390625 \r\nL 45.40625 54.6875 \r\nL 54.390625 54.6875 \r\nz\r\n\" id=\"DejaVuSans-103\"/>\r\n       <path d=\"M 9.421875 54.6875 \r\nL 18.40625 54.6875 \r\nL 18.40625 0 \r\nL 9.421875 0 \r\nz\r\nM 9.421875 75.984375 \r\nL 18.40625 75.984375 \r\nL 18.40625 64.59375 \r\nL 9.421875 64.59375 \r\nz\r\n\" id=\"DejaVuSans-105\"/>\r\n       <path d=\"M 44.28125 53.078125 \r\nL 44.28125 44.578125 \r\nQ 40.484375 46.53125 36.375 47.5 \r\nQ 32.28125 48.484375 27.875 48.484375 \r\nQ 21.1875 48.484375 17.84375 46.4375 \r\nQ 14.5 44.390625 14.5 40.28125 \r\nQ 14.5 37.15625 16.890625 35.375 \r\nQ 19.28125 33.59375 26.515625 31.984375 \r\nL 29.59375 31.296875 \r\nQ 39.15625 29.25 43.1875 25.515625 \r\nQ 47.21875 21.78125 47.21875 15.09375 \r\nQ 47.21875 7.46875 41.1875 3.015625 \r\nQ 35.15625 -1.421875 24.609375 -1.421875 \r\nQ 20.21875 -1.421875 15.453125 -0.5625 \r\nQ 10.6875 0.296875 5.421875 2 \r\nL 5.421875 11.28125 \r\nQ 10.40625 8.6875 15.234375 7.390625 \r\nQ 20.0625 6.109375 24.8125 6.109375 \r\nQ 31.15625 6.109375 34.5625 8.28125 \r\nQ 37.984375 10.453125 37.984375 14.40625 \r\nQ 37.984375 18.0625 35.515625 20.015625 \r\nQ 33.0625 21.96875 24.703125 23.78125 \r\nL 21.578125 24.515625 \r\nQ 13.234375 26.265625 9.515625 29.90625 \r\nQ 5.8125 33.546875 5.8125 39.890625 \r\nQ 5.8125 47.609375 11.28125 51.796875 \r\nQ 16.75 56 26.8125 56 \r\nQ 31.78125 56 36.171875 55.265625 \r\nQ 40.578125 54.546875 44.28125 53.078125 \r\nz\r\n\" id=\"DejaVuSans-115\"/>\r\n       <path d=\"M 18.3125 70.21875 \r\nL 18.3125 54.6875 \r\nL 36.8125 54.6875 \r\nL 36.8125 47.703125 \r\nL 18.3125 47.703125 \r\nL 18.3125 18.015625 \r\nQ 18.3125 11.328125 20.140625 9.421875 \r\nQ 21.96875 7.515625 27.59375 7.515625 \r\nL 36.8125 7.515625 \r\nL 36.8125 0 \r\nL 27.59375 0 \r\nQ 17.1875 0 13.234375 3.875 \r\nQ 9.28125 7.765625 9.28125 18.015625 \r\nL 9.28125 47.703125 \r\nL 2.6875 47.703125 \r\nL 2.6875 54.6875 \r\nL 9.28125 54.6875 \r\nL 9.28125 70.21875 \r\nz\r\n\" id=\"DejaVuSans-116\"/>\r\n       <path d=\"M 48.78125 52.59375 \r\nL 48.78125 44.1875 \r\nQ 44.96875 46.296875 41.140625 47.34375 \r\nQ 37.3125 48.390625 33.40625 48.390625 \r\nQ 24.65625 48.390625 19.8125 42.84375 \r\nQ 14.984375 37.3125 14.984375 27.296875 \r\nQ 14.984375 17.28125 19.8125 11.734375 \r\nQ 24.65625 6.203125 33.40625 6.203125 \r\nQ 37.3125 6.203125 41.140625 7.25 \r\nQ 44.96875 8.296875 48.78125 10.40625 \r\nL 48.78125 2.09375 \r\nQ 45.015625 0.34375 40.984375 -0.53125 \r\nQ 36.96875 -1.421875 32.421875 -1.421875 \r\nQ 20.0625 -1.421875 12.78125 6.34375 \r\nQ 5.515625 14.109375 5.515625 27.296875 \r\nQ 5.515625 40.671875 12.859375 48.328125 \r\nQ 20.21875 56 33.015625 56 \r\nQ 37.15625 56 41.109375 55.140625 \r\nQ 45.0625 54.296875 48.78125 52.59375 \r\nz\r\n\" id=\"DejaVuSans-99\"/>\r\n      </defs>\r\n      <use xlink:href=\"#DejaVuSans-76\"/>\r\n      <use x=\"53.962891\" xlink:href=\"#DejaVuSans-111\"/>\r\n      <use x=\"115.144531\" xlink:href=\"#DejaVuSans-103\"/>\r\n      <use x=\"178.621094\" xlink:href=\"#DejaVuSans-105\"/>\r\n      <use x=\"206.404297\" xlink:href=\"#DejaVuSans-115\"/>\r\n      <use x=\"258.503906\" xlink:href=\"#DejaVuSans-116\"/>\r\n      <use x=\"297.712891\" xlink:href=\"#DejaVuSans-105\"/>\r\n      <use x=\"325.496094\" xlink:href=\"#DejaVuSans-99\"/>\r\n     </g>\r\n    </g>\r\n    <g id=\"line2d_17\">\r\n     <path d=\"M 39.103125 34.976562 \r\nL 59.103125 34.976562 \r\n\" style=\"fill:none;stroke:#ff7f0e;stroke-dasharray:5.55,2.4;stroke-dashoffset:0;stroke-width:1.5;\"/>\r\n    </g>\r\n    <g id=\"line2d_18\"/>\r\n    <g id=\"text_14\">\r\n     <!-- No Skill -->\r\n     <g transform=\"translate(67.103125 38.476562)scale(0.1 -0.1)\">\r\n      <defs>\r\n       <path d=\"M 9.8125 72.90625 \r\nL 23.09375 72.90625 \r\nL 55.421875 11.921875 \r\nL 55.421875 72.90625 \r\nL 64.984375 72.90625 \r\nL 64.984375 0 \r\nL 51.703125 0 \r\nL 19.390625 60.984375 \r\nL 19.390625 0 \r\nL 9.8125 0 \r\nz\r\n\" id=\"DejaVuSans-78\"/>\r\n       <path id=\"DejaVuSans-32\"/>\r\n       <path d=\"M 53.515625 70.515625 \r\nL 53.515625 60.890625 \r\nQ 47.90625 63.578125 42.921875 64.890625 \r\nQ 37.9375 66.21875 33.296875 66.21875 \r\nQ 25.25 66.21875 20.875 63.09375 \r\nQ 16.5 59.96875 16.5 54.203125 \r\nQ 16.5 49.359375 19.40625 46.890625 \r\nQ 22.3125 44.4375 30.421875 42.921875 \r\nL 36.375 41.703125 \r\nQ 47.40625 39.59375 52.65625 34.296875 \r\nQ 57.90625 29 57.90625 20.125 \r\nQ 57.90625 9.515625 50.796875 4.046875 \r\nQ 43.703125 -1.421875 29.984375 -1.421875 \r\nQ 24.8125 -1.421875 18.96875 -0.25 \r\nQ 13.140625 0.921875 6.890625 3.21875 \r\nL 6.890625 13.375 \r\nQ 12.890625 10.015625 18.65625 8.296875 \r\nQ 24.421875 6.59375 29.984375 6.59375 \r\nQ 38.421875 6.59375 43.015625 9.90625 \r\nQ 47.609375 13.234375 47.609375 19.390625 \r\nQ 47.609375 24.75 44.3125 27.78125 \r\nQ 41.015625 30.8125 33.5 32.328125 \r\nL 27.484375 33.5 \r\nQ 16.453125 35.6875 11.515625 40.375 \r\nQ 6.59375 45.0625 6.59375 53.421875 \r\nQ 6.59375 63.09375 13.40625 68.65625 \r\nQ 20.21875 74.21875 32.171875 74.21875 \r\nQ 37.3125 74.21875 42.625 73.28125 \r\nQ 47.953125 72.359375 53.515625 70.515625 \r\nz\r\n\" id=\"DejaVuSans-83\"/>\r\n       <path d=\"M 9.078125 75.984375 \r\nL 18.109375 75.984375 \r\nL 18.109375 31.109375 \r\nL 44.921875 54.6875 \r\nL 56.390625 54.6875 \r\nL 27.390625 29.109375 \r\nL 57.625 0 \r\nL 45.90625 0 \r\nL 18.109375 26.703125 \r\nL 18.109375 0 \r\nL 9.078125 0 \r\nz\r\n\" id=\"DejaVuSans-107\"/>\r\n       <path d=\"M 9.421875 75.984375 \r\nL 18.40625 75.984375 \r\nL 18.40625 0 \r\nL 9.421875 0 \r\nz\r\n\" id=\"DejaVuSans-108\"/>\r\n      </defs>\r\n      <use xlink:href=\"#DejaVuSans-78\"/>\r\n      <use x=\"74.804688\" xlink:href=\"#DejaVuSans-111\"/>\r\n      <use x=\"135.986328\" xlink:href=\"#DejaVuSans-32\"/>\r\n      <use x=\"167.773438\" xlink:href=\"#DejaVuSans-83\"/>\r\n      <use x=\"231.25\" xlink:href=\"#DejaVuSans-107\"/>\r\n      <use x=\"289.160156\" xlink:href=\"#DejaVuSans-105\"/>\r\n      <use x=\"316.943359\" xlink:href=\"#DejaVuSans-108\"/>\r\n      <use x=\"344.726562\" xlink:href=\"#DejaVuSans-108\"/>\r\n     </g>\r\n    </g>\r\n    <g id=\"PathCollection_2\">\r\n     <g>\r\n      <use style=\"stroke:#000000;\" x=\"49.103125\" xlink:href=\"#m3bd9979983\" y=\"50.529687\"/>\r\n     </g>\r\n    </g>\r\n    <g id=\"text_15\">\r\n     <!-- Best -->\r\n     <g transform=\"translate(67.103125 53.154687)scale(0.1 -0.1)\">\r\n      <defs>\r\n       <path d=\"M 19.671875 34.8125 \r\nL 19.671875 8.109375 \r\nL 35.5 8.109375 \r\nQ 43.453125 8.109375 47.28125 11.40625 \r\nQ 51.125 14.703125 51.125 21.484375 \r\nQ 51.125 28.328125 47.28125 31.5625 \r\nQ 43.453125 34.8125 35.5 34.8125 \r\nz\r\nM 19.671875 64.796875 \r\nL 19.671875 42.828125 \r\nL 34.28125 42.828125 \r\nQ 41.5 42.828125 45.03125 45.53125 \r\nQ 48.578125 48.25 48.578125 53.8125 \r\nQ 48.578125 59.328125 45.03125 62.0625 \r\nQ 41.5 64.796875 34.28125 64.796875 \r\nz\r\nM 9.8125 72.90625 \r\nL 35.015625 72.90625 \r\nQ 46.296875 72.90625 52.390625 68.21875 \r\nQ 58.5 63.53125 58.5 54.890625 \r\nQ 58.5 48.1875 55.375 44.234375 \r\nQ 52.25 40.28125 46.1875 39.3125 \r\nQ 53.46875 37.75 57.5 32.78125 \r\nQ 61.53125 27.828125 61.53125 20.40625 \r\nQ 61.53125 10.640625 54.890625 5.3125 \r\nQ 48.25 0 35.984375 0 \r\nL 9.8125 0 \r\nz\r\n\" id=\"DejaVuSans-66\"/>\r\n       <path d=\"M 56.203125 29.59375 \r\nL 56.203125 25.203125 \r\nL 14.890625 25.203125 \r\nQ 15.484375 15.921875 20.484375 11.0625 \r\nQ 25.484375 6.203125 34.421875 6.203125 \r\nQ 39.59375 6.203125 44.453125 7.46875 \r\nQ 49.3125 8.734375 54.109375 11.28125 \r\nL 54.109375 2.78125 \r\nQ 49.265625 0.734375 44.1875 -0.34375 \r\nQ 39.109375 -1.421875 33.890625 -1.421875 \r\nQ 20.796875 -1.421875 13.15625 6.1875 \r\nQ 5.515625 13.8125 5.515625 26.8125 \r\nQ 5.515625 40.234375 12.765625 48.109375 \r\nQ 20.015625 56 32.328125 56 \r\nQ 43.359375 56 49.78125 48.890625 \r\nQ 56.203125 41.796875 56.203125 29.59375 \r\nz\r\nM 47.21875 32.234375 \r\nQ 47.125 39.59375 43.09375 43.984375 \r\nQ 39.0625 48.390625 32.421875 48.390625 \r\nQ 24.90625 48.390625 20.390625 44.140625 \r\nQ 15.875 39.890625 15.1875 32.171875 \r\nz\r\n\" id=\"DejaVuSans-101\"/>\r\n      </defs>\r\n      <use xlink:href=\"#DejaVuSans-66\"/>\r\n      <use x=\"68.603516\" xlink:href=\"#DejaVuSans-101\"/>\r\n      <use x=\"130.126953\" xlink:href=\"#DejaVuSans-115\"/>\r\n      <use x=\"182.226562\" xlink:href=\"#DejaVuSans-116\"/>\r\n     </g>\r\n    </g>\r\n   </g>\r\n  </g>\r\n </g>\r\n <defs>\r\n  <clipPath id=\"pbe62ae3a97\">\r\n   <rect height=\"217.44\" width=\"334.8\" x=\"30.103125\" y=\"7.2\"/>\r\n  </clipPath>\r\n </defs>\r\n</svg>\r\n",
      "image/png": "[encoded data removed]"
     },
     "metadata": {
      "needs_background": "light"
     }
    }
   ],
   "source": [
    "\n",
    "unet_model = models.UNet(IMG_HEIGHT, IMG_WIDTH, IMG_CHANNELS)\n",
    "weight_file = json.load(open('config.json'))['filepaths']['default_checkpoints']+'/'+IMG_INDEX+'/MPLS-UNet-HN+HNE.h5'\n",
    "unet_model.load_weights(weight_file)\n",
    "\n",
    "preds_train = np.squeeze(unet_model.predict(X_train, verbose=1))\n",
    "preds_val = np.squeeze(unet_model.predict(X_val, verbose=1))\n",
    "preds_test = np.squeeze(unet_model.predict(X_test, verbose=1))\n",
    "\n",
    "#dices = []\n",
    "#precisions = []\n",
    "#recalls = []\n",
    "#[tmin, tmax] = np.percentile(preds_train, [10, 90])\n",
    "#thrs = np.arange(tmin, tmax, 0.001)\n",
    "#for t in tqdm(thrs):\n",
    "#    preds_train_t = (preds_train > np.full(preds_train.shape, t)).astype(np.uint8)\n",
    "#    \n",
    "#    (tn, fp, fn, tp) = (0, 0, 0, 0)\n",
    "#    for i in range(len(preds_train_t)):\n",
    "#        tn_, fp_, fn_, tp_ = confusion_matrix(\n",
    "#            Y_train[i].astype(int).flatten(), preds_train_t[i].astype(int).flatten(), labels=[0,1]).ravel()\n",
    "#        tn = tn + tn_\n",
    "#        fp = fp + fp_\n",
    "#        fn = fn + fn_\n",
    "#        tp = tp + tp_\n",
    "#    print('%d, %d, %d, %d'%(tn, fp, fn, tp))\n",
    "#    precision = tp/(tp+fp)\n",
    "#    recall = tp/(tp+fn)\n",
    "#    f1 = 2*(precision*recall)/(precision+recall)\n",
    "#    #specificity = tn/(tn+fp)\n",
    "#    #accuracy = (tn+tp)/(tn+fp+fn+tp)\n",
    "#    dices.append(f1)\n",
    "#    precisions.append(precision)\n",
    "#    recalls.append(recall)\n",
    "#    print('Threshold: %0.3f, F1: %0.3f, Precision: %0.3f, Recall: %0.3f'% (t, f1, precision, recall))\n",
    "ns_probs = np.zeros(Y_train.shape)\n",
    "ns_fpr, ns_tpr, _ = roc_curve(np.squeeze(Y_train).flatten(), ns_probs.flatten())\n",
    "fpr, tpr, thresholds = roc_curve(np.squeeze(Y_train).flatten(), preds_train.flatten())\n",
    "gmeans = np.sqrt(tpr * (1-fpr))\n",
    "ix = np.argmax(gmeans)\n",
    "print('Best Threshold=%f, G-Mean=%.3f' % (thresholds[ix], gmeans[ix]))\n",
    "plt.plot(fpr, tpr, label='Logistic')\n",
    "plt.plot(ns_fpr, ns_tpr, linestyle='--', label='No Skill')\n",
    "plt.scatter(fpr[ix], tpr[ix], marker='o', color='black', label='Best')\n",
    "plt.legend()\n",
    "plt.show\n",
    "best_threshold = thresholds[ix]\n",
    "#best_threshold = thrs[np.argmin(np.abs(np.array(precisions)-np.array(recalls)))]\n",
    "#print('Best Threshold: %0.3f' % (best_threshold))\n",
    "#plt.title('Performance curves for UNetS on HN')\n",
    "#plt.plot(thrs, dices, label='F1')\n",
    "#plt.plot(thrs, precisions, label='Precision')\n",
    "#plt.plot(thrs, recalls, label='Recall')\n",
    "#plt.axvline(x=best_threshold, color='r', label='Best Threshold')\n",
    "#plt.ylabel('Metric Score')\n",
    "#plt.xlabel('Threshold Value')\n",
    "#plt.legend()\n",
    "#plt.show()\n",
    "\n",
    "preds_train_t = (preds_train > np.full(preds_train.shape, best_threshold)).astype(np.uint8)\n",
    "preds_val_t = (preds_val > np.full(preds_val.shape, best_threshold)).astype(np.uint8)\n",
    "preds_test_t = (preds_test > np.full(preds_test.shape, best_threshold)).astype(np.uint8)\n",
    "\n",
    "# Perform a sanity check on some random training samples\n",
    "#for ix in range(len(preds_train_t)):\n",
    "#    plt.ioff()\n",
    "#    fig, axs = plt.subplots(2, 3, figsize=(16, 10), squeeze=True)\n",
    "#    fig.suptitle('%s with threshold: %0.3f' % (IMG_INDEX, best_threshold))\n",
    "#    axs[0, 0].imshow(X_train[ix][:,:,:3])\n",
    "#    axs[0, 0].set_title(\"Input imagery\")\n",
    "#    if IMG_CHANNELS > 3:\n",
    "#        axs[0, 1].imshow(X_train[ix][:,:,3:4])\n",
    "#        axs[0, 1].set_title(\"Input index\")\n",
    "#    axs[0, 2].imshow(Y_train[ix])\n",
    "#    axs[0, 2].set_title(\"Binary mask label\")\n",
    "#    axs[1, 0].imshow(preds_train[ix])\n",
    "#    axs[1, 0].set_title('Prediction values')\n",
    "#    axs[1, 1].imshow(preds_train_t[ix])\n",
    "#    axs[1, 1].set_title('Binary prediction')\n",
    "#    cm = np.squeeze(Y_train[ix]).astype(int)-2*np.squeeze(preds_train_t[ix]).astype(int)\n",
    "#    tn_, fp_, fn_, tp_ = confusion_matrix(Y_train[ix].astype(int).flatten(), preds_train_t[ix].astype(int).flatten(), labels=[0,1]).ravel()\n",
    "#    precision = tp_/(tp_+fp_)\n",
    "#    recall = tp_/(tp_+fn_)\n",
    "#    f1 = 2*(precision*recall)/(precision+recall)\n",
    "#    axs[1, 2].imshow(cm, cmap='RdBu', interpolation='gaussian')\n",
    "#    axs[1, 2].set_title('Confusion Matrix (f1: %0.3f)\\nLight Red=tp, Light Blue=tn, Red=fp, Blue=fn' % (f1))\n",
    "#    plt.savefig('outputs/plots/'+str(ix)+'/UNetS_'+IMG_INDEX+'_'+str(ix))\n",
    "#    plt.close()\n",
    "#    break\n"
   ]
  },
  {
   "cell_type": "code",
   "execution_count": null,
   "metadata": {},
   "outputs": [],
   "source": [
    "# Perform a sanity check on some random validation samples\n",
    "ix = random.randint(0, len(X_val)-1)\n",
    "imshow(X_val[ix][:,:,:3])\n",
    "plt.title(\"Input imagery\")\n",
    "plt.show()\n",
    "print(\"Mask coverage: %0.3f\"%(np.mean(Y_val[ix])))\n",
    "imshow(np.squeeze(Y_val[ix]))\n",
    "plt.title(\"Binary mask label\")\n",
    "plt.show()\n",
    "imshow(np.squeeze(preds_val_t[ix]))\n",
    "plt.title('Binary prediction')\n",
    "plt.show()"
   ]
  },
  {
   "cell_type": "code",
   "execution_count": null,
   "metadata": {},
   "outputs": [],
   "source": [
    "# Perform a sanity check on some random test samples\n",
    "ix = random.randint(0, len(X_val)-1)\n",
    "imshow(X_test[ix][:,:,:3])\n",
    "plt.title(\"Input imagery\")\n",
    "plt.show()\n",
    "print(\"Mask coverage: %0.3f\"%(np.mean(Y_test[ix])))\n",
    "imshow(np.squeeze(Y_test[ix]))\n",
    "plt.title(\"Binary mask label\")\n",
    "plt.show()\n",
    "imshow(np.squeeze(preds_test_t[ix]))\n",
    "plt.title('Binary prediction')\n",
    "plt.show()"
   ]
  },
  {
   "cell_type": "code",
   "execution_count": 8,
   "metadata": {
    "scrolled": true,
    "tags": []
   },
   "outputs": [
    {
     "output_type": "stream",
     "name": "stdout",
     "text": [
      "177213.0 144975.0 92361.0 109739.0\n"
     ]
    }
   ],
   "source": [
    "tn = 0.\n",
    "fp = 0.\n",
    "fn = 0.\n",
    "tp = 0.\n",
    "for ix in range(0, len(preds_test_t)):\n",
    "    tn_, fp_, fn_, tp_ = confusion_matrix(Y_test[ix].astype(int).flatten(), preds_test_t[ix].astype(int).flatten(), labels=[0,1]).ravel()\n",
    "    tn = tn + tn_\n",
    "    fp = fp + fp_\n",
    "    fn = fn + fn_\n",
    "    tp = tp + tp_\n",
    "\n",
    "print(tn, fp, fn, tp)"
   ]
  },
  {
   "cell_type": "code",
   "execution_count": 9,
   "metadata": {
    "scrolled": true,
    "tags": []
   },
   "outputs": [
    {
     "output_type": "stream",
     "name": "stdout",
     "text": [
      "186358.0 200892.0 52131.0 84907.0\n"
     ]
    }
   ],
   "source": [
    "tn = 0.\n",
    "fp = 0.\n",
    "fn = 0.\n",
    "tp = 0.\n",
    "for ix in range(0, len(preds_val_t)):\n",
    "    #print(ix)\n",
    "    tn_, fp_, fn_, tp_ = confusion_matrix(Y_val[ix].astype(int).flatten(), preds_val_t[ix].astype(int).flatten(), labels=[0,1]).ravel()\n",
    "    tn = tn + tn_\n",
    "    fp = fp + fp_\n",
    "    fn = fn + fn_\n",
    "    tp = tp + tp_\n",
    "#    print(tn, fp, fn, tp)\n",
    "\n",
    "print(tn, fp, fn, tp)"
   ]
  },
  {
   "cell_type": "code",
   "execution_count": null,
   "metadata": {
    "scrolled": true
   },
   "outputs": [],
   "source": [
    "# Selecting test data samples\n",
    "# Need to run once at the start\n",
    "# print(img_mask_HCL_pair.keys)\n",
    "\n",
    "# import shutil\n",
    "\n",
    "# TEST_HCL_PATH = '/Users/jayantgupta/Desktop/Imagery/Wetland_Imagery/027_23_05_020/Test/img'\n",
    "# TEST_HCL_MASK_PATH = '/Users/jayantgupta/Desktop/Imagery/Wetland_Imagery/027_23_05_020/Test/mask'\n",
    "\n",
    "# TEST_HCR_PATH = '/Users/jayantgupta/Desktop/Imagery/Wetland_Imagery/027_23_05_021/Test/img'\n",
    "# TEST_HCR_MASK_PATH = '/Users/jayantgupta/Desktop/Imagery/Wetland_Imagery/027_23_05_021/Test/mask'\n",
    "\n",
    "# test_samples_HCL = random.choices(list(img_mask_HCL_pair.keys()), k=98)\n",
    "# for sample in test_samples_HCL:\n",
    "#     try:\n",
    "#         img_path = img_mask_HCL_pair[sample][0]\n",
    "#         img_test_path = os.path.join(TEST_HCL_PATH,img_path.split('/')[-1])\n",
    "#         shutil.move(img_path, img_test_path)\n",
    "#     #print(img_path)\n",
    "#     #print(img_test_path)\n",
    "\n",
    "#         mask_path = img_mask_HCL_pair[sample][1]\n",
    "#         mask_test_path = os.path.join(TEST_HCL_MASK_PATH, mask_path.split('/')[-1])\n",
    "#         shutil.move(mask_path, mask_test_path)\n",
    "#     except:\n",
    "#         print(sample)\n",
    "#     #break;\n",
    "\n",
    "# test_samples_HCR = random.choices(list(img_mask_HCR_pair.keys()), k=98)\n",
    "# for sample in test_samples_HCR:\n",
    "#     try:\n",
    "#         img_path = img_mask_HCR_pair[sample][0]\n",
    "#         img_test_path = os.path.join(TEST_HCR_PATH,img_path.split('/')[-1])\n",
    "#         shutil.move(img_path, img_test_path)\n",
    "    \n",
    "#         mask_path = img_mask_HCR_pair[sample][1]\n",
    "#         mask_test_path = os.path.join(TEST_HCR_MASK_PATH, mask_path.split('/')[-1])\n",
    "#         shutil.move(mask_path, mask_test_path)    \n",
    "#     except:\n",
    "#         print(sample)"
   ]
  }
 ],
 "metadata": {
  "kernelspec": {
   "name": "python3",
   "display_name": "Python 3.8.8 64-bit",
   "metadata": {
    "interpreter": {
     "hash": "07c46ca53373d77946a1f91b32830b25c286f651e7c57e43a22ae0ff0d08e057"
    }
   }
  },
  "language_info": {
   "codemirror_mode": {
    "name": "ipython",
    "version": 3
   },
   "file_extension": ".py",
   "mimetype": "text/x-python",
   "name": "python",
   "nbconvert_exporter": "python",
   "pygments_lexer": "ipython3",
   "version": "3.8.8-final"
  }
 },
 "nbformat": 4,
 "nbformat_minor": 4
}